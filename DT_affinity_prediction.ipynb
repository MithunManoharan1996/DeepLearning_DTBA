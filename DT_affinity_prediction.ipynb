{
 "cells": [
  {
   "cell_type": "markdown",
   "id": "826d829b-cdbc-4b3b-b544-de131e98c2e9",
   "metadata": {
    "id": "826d829b-cdbc-4b3b-b544-de131e98c2e9"
   },
   "source": [
    "# Deep Learning Model for Drug-Target Binding Affinity Prediction"
   ]
  },
  {
   "cell_type": "markdown",
   "id": "d00031d8-8467-4eab-8367-0f869c593fd1",
   "metadata": {
    "id": "d00031d8-8467-4eab-8367-0f869c593fd1"
   },
   "source": [
    "## Installing and importing packages"
   ]
  },
  {
   "cell_type": "code",
   "execution_count": null,
   "id": "8b4147be-af6e-4a1c-b38b-3bf3bf69feb8",
   "metadata": {
    "collapsed": true,
    "id": "8b4147be-af6e-4a1c-b38b-3bf3bf69feb8",
    "jupyter": {
     "outputs_hidden": true
    }
   },
   "outputs": [],
   "source": [
    "# Uncomment and run for CPU run\n",
    "#!pip install tensorflow"
   ]
  },
  {
   "cell_type": "code",
   "execution_count": 1,
   "id": "fa421951-0657-45c8-9c01-26414765c88e",
   "metadata": {
    "collapsed": true,
    "id": "fa421951-0657-45c8-9c01-26414765c88e",
    "jupyter": {
     "outputs_hidden": true
    },
    "tags": []
   },
   "outputs": [
    {
     "name": "stdout",
     "output_type": "stream",
     "text": [
      "Looking in indexes: https://repo.nferx.com/repository/pypi-all/simple/\n",
      "Collecting tensorflow[and-cuda]\n",
      "\u001b[33m  WARNING: Retrying (Retry(total=4, connect=None, read=None, redirect=None, status=None)) after connection broken by 'ReadTimeoutError(\"HTTPSConnectionPool(host='repo.nferx.com', port=443): Read timed out. (read timeout=15)\")': /repository/pypi-all/packages/tensorflow/2.14.0/tensorflow-2.14.0-cp310-cp310-manylinux_2_17_x86_64.manylinux2014_x86_64.whl\u001b[0m\u001b[33m\n",
      "\u001b[0m  Downloading https://repo.nferx.com/repository/pypi-all/packages/tensorflow/2.14.0/tensorflow-2.14.0-cp310-cp310-manylinux_2_17_x86_64.manylinux2014_x86_64.whl (489.8 MB)\n",
      "\u001b[2K     \u001b[90m━━━━━━━━━━━━━━━━━━━━━━━━━━━━━━━━━━━━━\u001b[0m \u001b[32m489.8/489.8 MB\u001b[0m \u001b[31m217.3 MB/s\u001b[0m eta \u001b[36m0:00:00\u001b[0m00:01\u001b[0m00:01\u001b[0m\n",
      "\u001b[?25hCollecting absl-py>=1.0.0 (from tensorflow[and-cuda])\n",
      "  Downloading https://repo.nferx.com/repository/pypi-all/packages/absl-py/2.0.0/absl_py-2.0.0-py3-none-any.whl (130 kB)\n",
      "\u001b[2K     \u001b[90m━━━━━━━━━━━━━━━━━━━━━━━━━━━━━━━━━━━━━\u001b[0m \u001b[32m130.2/130.2 kB\u001b[0m \u001b[31m121.7 MB/s\u001b[0m eta \u001b[36m0:00:00\u001b[0m\n",
      "\u001b[?25hCollecting astunparse>=1.6.0 (from tensorflow[and-cuda])\n",
      "  Downloading https://repo.nferx.com/repository/pypi-all/packages/astunparse/1.6.3/astunparse-1.6.3-py2.py3-none-any.whl (12 kB)\n",
      "Requirement already satisfied: flatbuffers>=23.5.26 in /opt/conda/lib/python3.10/site-packages (from tensorflow[and-cuda]) (23.5.26)\n",
      "Collecting gast!=0.5.0,!=0.5.1,!=0.5.2,>=0.2.1 (from tensorflow[and-cuda])\n",
      "  Downloading https://repo.nferx.com/repository/pypi-all/packages/gast/0.5.4/gast-0.5.4-py3-none-any.whl (19 kB)\n",
      "Collecting google-pasta>=0.1.1 (from tensorflow[and-cuda])\n",
      "  Downloading https://repo.nferx.com/repository/pypi-all/packages/google-pasta/0.2.0/google_pasta-0.2.0-py3-none-any.whl (57 kB)\n",
      "\u001b[2K     \u001b[90m━━━━━━━━━━━━━━━━━━━━━━━━━━━━━━━━━━━━━━━\u001b[0m \u001b[32m57.5/57.5 kB\u001b[0m \u001b[31m127.6 MB/s\u001b[0m eta \u001b[36m0:00:00\u001b[0m\n",
      "\u001b[?25hCollecting h5py>=2.9.0 (from tensorflow[and-cuda])\n",
      "  Downloading https://repo.nferx.com/repository/pypi-all/packages/h5py/3.10.0/h5py-3.10.0-cp310-cp310-manylinux_2_17_x86_64.manylinux2014_x86_64.whl (4.8 MB)\n",
      "\u001b[2K     \u001b[90m━━━━━━━━━━━━━━━━━━━━━━━━━━━━━━━━━━━━━━━━\u001b[0m \u001b[32m4.8/4.8 MB\u001b[0m \u001b[31m168.6 MB/s\u001b[0m eta \u001b[36m0:00:00\u001b[0m\n",
      "\u001b[?25hCollecting libclang>=13.0.0 (from tensorflow[and-cuda])\n",
      "  Downloading https://repo.nferx.com/repository/pypi-all/packages/libclang/16.0.6/libclang-16.0.6-py2.py3-none-manylinux2010_x86_64.whl (22.9 MB)\n",
      "\u001b[2K     \u001b[90m━━━━━━━━━━━━━━━━━━━━━━━━━━━━━━━━━━━━━━━\u001b[0m \u001b[32m22.9/22.9 MB\u001b[0m \u001b[31m167.0 MB/s\u001b[0m eta \u001b[36m0:00:00\u001b[0ma \u001b[36m0:00:01\u001b[0m\n",
      "\u001b[?25hCollecting ml-dtypes==0.2.0 (from tensorflow[and-cuda])\n",
      "  Downloading https://repo.nferx.com/repository/pypi-all/packages/ml-dtypes/0.2.0/ml_dtypes-0.2.0-cp310-cp310-manylinux_2_17_x86_64.manylinux2014_x86_64.whl (1.0 MB)\n",
      "\u001b[2K     \u001b[90m━━━━━━━━━━━━━━━━━━━━━━━━━━━━━━━━━━━━━━━━\u001b[0m \u001b[32m1.0/1.0 MB\u001b[0m \u001b[31m40.1 MB/s\u001b[0m eta \u001b[36m0:00:00\u001b[0m\n",
      "\u001b[?25hRequirement already satisfied: numpy>=1.23.5 in /opt/conda/lib/python3.10/site-packages (from tensorflow[and-cuda]) (1.23.5)\n",
      "Collecting opt-einsum>=2.3.2 (from tensorflow[and-cuda])\n",
      "  Downloading https://repo.nferx.com/repository/pypi-all/packages/opt-einsum/3.3.0/opt_einsum-3.3.0-py3-none-any.whl (65 kB)\n",
      "\u001b[2K     \u001b[90m━━━━━━━━━━━━━━━━━━━━━━━━━━━━━━━━━━━━━━━\u001b[0m \u001b[32m65.5/65.5 kB\u001b[0m \u001b[31m175.6 MB/s\u001b[0m eta \u001b[36m0:00:00\u001b[0m\n",
      "\u001b[?25hRequirement already satisfied: packaging in /opt/conda/lib/python3.10/site-packages (from tensorflow[and-cuda]) (21.3)\n",
      "Requirement already satisfied: protobuf!=4.21.0,!=4.21.1,!=4.21.2,!=4.21.3,!=4.21.4,!=4.21.5,<5.0.0dev,>=3.20.3 in /opt/conda/lib/python3.10/site-packages (from tensorflow[and-cuda]) (4.23.4)\n",
      "Requirement already satisfied: setuptools in /opt/conda/lib/python3.10/site-packages (from tensorflow[and-cuda]) (68.0.0)\n",
      "Requirement already satisfied: six>=1.12.0 in /opt/conda/lib/python3.10/site-packages (from tensorflow[and-cuda]) (1.16.0)\n",
      "Collecting termcolor>=1.1.0 (from tensorflow[and-cuda])\n",
      "  Downloading https://repo.nferx.com/repository/pypi-all/packages/termcolor/2.3.0/termcolor-2.3.0-py3-none-any.whl (6.9 kB)\n",
      "Requirement already satisfied: typing-extensions>=3.6.6 in /opt/conda/lib/python3.10/site-packages (from tensorflow[and-cuda]) (4.3.0)\n",
      "Collecting wrapt<1.15,>=1.11.0 (from tensorflow[and-cuda])\n",
      "  Downloading https://repo.nferx.com/repository/pypi-all/packages/wrapt/1.14.1/wrapt-1.14.1-cp310-cp310-manylinux_2_5_x86_64.manylinux1_x86_64.manylinux_2_17_x86_64.manylinux2014_x86_64.whl (77 kB)\n",
      "\u001b[2K     \u001b[90m━━━━━━━━━━━━━━━━━━━━━━━━━━━━━━━━━━━━━━━\u001b[0m \u001b[32m77.9/77.9 kB\u001b[0m \u001b[31m223.6 MB/s\u001b[0m eta \u001b[36m0:00:00\u001b[0m\n",
      "\u001b[?25hCollecting tensorflow-io-gcs-filesystem>=0.23.1 (from tensorflow[and-cuda])\n",
      "  Downloading https://repo.nferx.com/repository/pypi-all/packages/tensorflow-io-gcs-filesystem/0.34.0/tensorflow_io_gcs_filesystem-0.34.0-cp310-cp310-manylinux_2_12_x86_64.manylinux2010_x86_64.whl (2.4 MB)\n",
      "\u001b[2K     \u001b[90m━━━━━━━━━━━━━━━━━━━━━━━━━━━━━━━━━━━━━━━━\u001b[0m \u001b[32m2.4/2.4 MB\u001b[0m \u001b[31m64.3 MB/s\u001b[0m eta \u001b[36m0:00:00\u001b[0ma \u001b[36m0:00:01\u001b[0m\n",
      "\u001b[?25hCollecting grpcio<2.0,>=1.24.3 (from tensorflow[and-cuda])\n",
      "  Downloading https://repo.nferx.com/repository/pypi-all/packages/grpcio/1.59.0/grpcio-1.59.0-cp310-cp310-manylinux_2_17_x86_64.manylinux2014_x86_64.whl (5.3 MB)\n",
      "\u001b[2K     \u001b[90m━━━━━━━━━━━━━━━━━━━━━━━━━━━━━━━━━━━━━━━━\u001b[0m \u001b[32m5.3/5.3 MB\u001b[0m \u001b[31m82.6 MB/s\u001b[0m eta \u001b[36m0:00:00\u001b[0ma \u001b[36m0:00:01\u001b[0m\n",
      "\u001b[?25hCollecting tensorboard<2.15,>=2.14 (from tensorflow[and-cuda])\n",
      "  Downloading https://repo.nferx.com/repository/pypi-all/packages/tensorboard/2.14.1/tensorboard-2.14.1-py3-none-any.whl (5.5 MB)\n",
      "\u001b[2K     \u001b[90m━━━━━━━━━━━━━━━━━━━━━━━━━━━━━━━━━━━━━━━━\u001b[0m \u001b[32m5.5/5.5 MB\u001b[0m \u001b[31m132.5 MB/s\u001b[0m eta \u001b[36m0:00:00\u001b[0ma \u001b[36m0:00:01\u001b[0m\n",
      "\u001b[?25hCollecting tensorflow-estimator<2.15,>=2.14.0 (from tensorflow[and-cuda])\n",
      "  Downloading https://repo.nferx.com/repository/pypi-all/packages/tensorflow-estimator/2.14.0/tensorflow_estimator-2.14.0-py2.py3-none-any.whl (440 kB)\n",
      "\u001b[2K     \u001b[90m━━━━━━━━━━━━━━━━━━━━━━━━━━━━━━━━━━━━━\u001b[0m \u001b[32m440.7/440.7 kB\u001b[0m \u001b[31m298.5 MB/s\u001b[0m eta \u001b[36m0:00:00\u001b[0m\n",
      "\u001b[?25hCollecting keras<2.15,>=2.14.0 (from tensorflow[and-cuda])\n",
      "  Downloading https://repo.nferx.com/repository/pypi-all/packages/keras/2.14.0/keras-2.14.0-py3-none-any.whl (1.7 MB)\n",
      "\u001b[2K     \u001b[90m━━━━━━━━━━━━━━━━━━━━━━━━━━━━━━━━━━━━━━━━\u001b[0m \u001b[32m1.7/1.7 MB\u001b[0m \u001b[31m55.9 MB/s\u001b[0m eta \u001b[36m0:00:00\u001b[0m\n",
      "\u001b[?25hCollecting nvidia-cuda-runtime-cu11==11.8.89 (from tensorflow[and-cuda])\n",
      "  Downloading https://repo.nferx.com/repository/pypi-all/packages/nvidia-cuda-runtime-cu11/11.8.89/nvidia_cuda_runtime_cu11-11.8.89-py3-none-manylinux1_x86_64.whl (875 kB)\n",
      "\u001b[2K     \u001b[90m━━━━━━━━━━━━━━━━━━━━━━━━━━━━━━━━━━━━━\u001b[0m \u001b[32m875.6/875.6 kB\u001b[0m \u001b[31m118.0 MB/s\u001b[0m eta \u001b[36m0:00:00\u001b[0m\n",
      "\u001b[?25hCollecting nvidia-cublas-cu11==11.11.3.6 (from tensorflow[and-cuda])\n",
      "  Downloading https://repo.nferx.com/repository/pypi-all/packages/nvidia-cublas-cu11/11.11.3.6/nvidia_cublas_cu11-11.11.3.6-py3-none-manylinux1_x86_64.whl (417.9 MB)\n",
      "\u001b[2K     \u001b[90m━━━━━━━━━━━━━━━━━━━━━━━━━━━━━━━━━━━━━\u001b[0m \u001b[32m417.9/417.9 MB\u001b[0m \u001b[31m192.3 MB/s\u001b[0m eta \u001b[36m0:00:00\u001b[0m00:01\u001b[0m00:01\u001b[0m\n",
      "\u001b[?25hRequirement already satisfied: nvidia-cufft-cu11==10.9.0.58 in /opt/conda/lib/python3.10/site-packages (from tensorflow[and-cuda]) (10.9.0.58)\n",
      "Collecting nvidia-cudnn-cu11==8.7.0.84 (from tensorflow[and-cuda])\n",
      "\u001b[33m  WARNING: Retrying (Retry(total=4, connect=None, read=None, redirect=None, status=None)) after connection broken by 'ReadTimeoutError(\"HTTPSConnectionPool(host='repo.nferx.com', port=443): Read timed out. (read timeout=15)\")': /repository/pypi-all/packages/nvidia-cudnn-cu11/8.7.0.84/nvidia_cudnn_cu11-8.7.0.84-py3-none-manylinux1_x86_64.whl\u001b[0m\u001b[33m\n",
      "\u001b[0m  Downloading https://repo.nferx.com/repository/pypi-all/packages/nvidia-cudnn-cu11/8.7.0.84/nvidia_cudnn_cu11-8.7.0.84-py3-none-manylinux1_x86_64.whl (728.5 MB)\n",
      "\u001b[2K     \u001b[90m━━━━━━━━━━━━━━━━━━━━━━━━━━━━━━━━━━━━━\u001b[0m \u001b[32m728.5/728.5 MB\u001b[0m \u001b[31m201.2 MB/s\u001b[0m eta \u001b[36m0:00:00\u001b[0m00:01\u001b[0m00:01\u001b[0m\n",
      "\u001b[?25hCollecting nvidia-curand-cu11==10.3.0.86 (from tensorflow[and-cuda])\n",
      "  Downloading https://repo.nferx.com/repository/pypi-all/packages/nvidia-curand-cu11/10.3.0.86/nvidia_curand_cu11-10.3.0.86-py3-none-manylinux1_x86_64.whl (58.1 MB)\n",
      "\u001b[2K     \u001b[90m━━━━━━━━━━━━━━━━━━━━━━━━━━━━━━━━━━━━━━━\u001b[0m \u001b[32m58.1/58.1 MB\u001b[0m \u001b[31m216.2 MB/s\u001b[0m eta \u001b[36m0:00:00\u001b[0ma \u001b[36m0:00:01\u001b[0m\n",
      "\u001b[?25hCollecting nvidia-cusolver-cu11==11.4.1.48 (from tensorflow[and-cuda])\n",
      "  Downloading https://repo.nferx.com/repository/pypi-all/packages/nvidia-cusolver-cu11/11.4.1.48/nvidia_cusolver_cu11-11.4.1.48-py3-none-manylinux1_x86_64.whl (128.2 MB)\n",
      "\u001b[2K     \u001b[90m━━━━━━━━━━━━━━━━━━━━━━━━━━━━━━━━━━━━━\u001b[0m \u001b[32m128.2/128.2 MB\u001b[0m \u001b[31m166.7 MB/s\u001b[0m eta \u001b[36m0:00:00\u001b[0m00:01\u001b[0m00:01\u001b[0m\n",
      "\u001b[?25hCollecting nvidia-cusparse-cu11==11.7.5.86 (from tensorflow[and-cuda])\n",
      "  Downloading https://repo.nferx.com/repository/pypi-all/packages/nvidia-cusparse-cu11/11.7.5.86/nvidia_cusparse_cu11-11.7.5.86-py3-none-manylinux1_x86_64.whl (204.1 MB)\n",
      "\u001b[2K     \u001b[90m━━━━━━━━━━━━━━━━━━━━━━━━━━━━━━━━━━━━━\u001b[0m \u001b[32m204.1/204.1 MB\u001b[0m \u001b[31m174.2 MB/s\u001b[0m eta \u001b[36m0:00:00\u001b[0ma \u001b[36m0:00:01\u001b[0m\n",
      "\u001b[?25hCollecting nvidia-nccl-cu11==2.16.5 (from tensorflow[and-cuda])\n",
      "  Downloading https://repo.nferx.com/repository/pypi-all/packages/nvidia-nccl-cu11/2.16.5/nvidia_nccl_cu11-2.16.5-py3-none-manylinux1_x86_64.whl (210.3 MB)\n",
      "\u001b[2K     \u001b[90m━━━━━━━━━━━━━━━━━━━━━━━━━━━━━━━━━━━━━\u001b[0m \u001b[32m210.3/210.3 MB\u001b[0m \u001b[31m208.4 MB/s\u001b[0m eta \u001b[36m0:00:00\u001b[0ma \u001b[36m0:00:01\u001b[0m\n",
      "\u001b[?25hCollecting nvidia-cuda-cupti-cu11==11.8.87 (from tensorflow[and-cuda])\n",
      "  Downloading https://repo.nferx.com/repository/pypi-all/packages/nvidia-cuda-cupti-cu11/11.8.87/nvidia_cuda_cupti_cu11-11.8.87-py3-none-manylinux1_x86_64.whl (13.1 MB)\n",
      "\u001b[2K     \u001b[90m━━━━━━━━━━━━━━━━━━━━━━━━━━━━━━━━━━━━━━━\u001b[0m \u001b[32m13.1/13.1 MB\u001b[0m \u001b[31m193.2 MB/s\u001b[0m eta \u001b[36m0:00:00\u001b[0ma \u001b[36m0:00:01\u001b[0m\n",
      "\u001b[?25hCollecting nvidia-cuda-nvcc-cu11==11.8.89 (from tensorflow[and-cuda])\n",
      "  Downloading https://repo.nferx.com/repository/pypi-all/packages/nvidia-cuda-nvcc-cu11/11.8.89/nvidia_cuda_nvcc_cu11-11.8.89-py3-none-manylinux1_x86_64.whl (19.5 MB)\n",
      "\u001b[2K     \u001b[90m━━━━━━━━━━━━━━━━━━━━━━━━━━━━━━━━━━━━━━━\u001b[0m \u001b[32m19.5/19.5 MB\u001b[0m \u001b[31m181.3 MB/s\u001b[0m eta \u001b[36m0:00:00\u001b[0ma \u001b[36m0:00:01\u001b[0m\n",
      "\u001b[?25hCollecting tensorrt==8.5.3.1 (from tensorflow[and-cuda])\n",
      "\u001b[33m  WARNING: Retrying (Retry(total=4, connect=None, read=None, redirect=None, status=None)) after connection broken by 'ReadTimeoutError(\"HTTPSConnectionPool(host='repo.nferx.com', port=443): Read timed out. (read timeout=15)\")': /repository/pypi-all/packages/tensorrt/8.5.3.1/tensorrt-8.5.3.1-cp310-none-manylinux_2_17_x86_64.whl\u001b[0m\u001b[33m\n",
      "\u001b[0m  Downloading https://repo.nferx.com/repository/pypi-all/packages/tensorrt/8.5.3.1/tensorrt-8.5.3.1-cp310-none-manylinux_2_17_x86_64.whl (549.5 MB)\n",
      "\u001b[2K     \u001b[90m━━━━━━━━━━━━━━━━━━━━━━━━━━━━━━━━━━━━━\u001b[0m \u001b[32m549.5/549.5 MB\u001b[0m \u001b[31m162.4 MB/s\u001b[0m eta \u001b[36m0:00:00\u001b[0m00:01\u001b[0m00:01\u001b[0m\n",
      "\u001b[?25hRequirement already satisfied: wheel<1.0,>=0.23.0 in /opt/conda/lib/python3.10/site-packages (from astunparse>=1.6.0->tensorflow[and-cuda]) (0.40.0)\n",
      "Requirement already satisfied: google-auth<3,>=1.6.3 in /opt/conda/lib/python3.10/site-packages (from tensorboard<2.15,>=2.14->tensorflow[and-cuda]) (2.22.0)\n",
      "Requirement already satisfied: google-auth-oauthlib<1.1,>=0.5 in /opt/conda/lib/python3.10/site-packages (from tensorboard<2.15,>=2.14->tensorflow[and-cuda]) (1.0.0)\n",
      "Requirement already satisfied: markdown>=2.6.8 in /opt/conda/lib/python3.10/site-packages (from tensorboard<2.15,>=2.14->tensorflow[and-cuda]) (3.4.3)\n",
      "Requirement already satisfied: requests<3,>=2.21.0 in /opt/conda/lib/python3.10/site-packages (from tensorboard<2.15,>=2.14->tensorflow[and-cuda]) (2.28.1)\n",
      "Collecting tensorboard-data-server<0.8.0,>=0.7.0 (from tensorboard<2.15,>=2.14->tensorflow[and-cuda])\n",
      "  Downloading https://repo.nferx.com/repository/pypi-all/packages/tensorboard-data-server/0.7.2/tensorboard_data_server-0.7.2-py3-none-manylinux_2_31_x86_64.whl (6.6 MB)\n",
      "\u001b[2K     \u001b[90m━━━━━━━━━━━━━━━━━━━━━━━━━━━━━━━━━━━━━━━━\u001b[0m \u001b[32m6.6/6.6 MB\u001b[0m \u001b[31m104.7 MB/s\u001b[0m eta \u001b[36m0:00:00\u001b[0m \u001b[36m0:00:01\u001b[0m\n",
      "\u001b[?25hRequirement already satisfied: werkzeug>=1.0.1 in /opt/conda/lib/python3.10/site-packages (from tensorboard<2.15,>=2.14->tensorflow[and-cuda]) (2.3.6)\n",
      "Requirement already satisfied: pyparsing!=3.0.5,>=2.0.2 in /opt/conda/lib/python3.10/site-packages (from packaging->tensorflow[and-cuda]) (3.0.9)\n",
      "Requirement already satisfied: cachetools<6.0,>=2.0.0 in /opt/conda/lib/python3.10/site-packages (from google-auth<3,>=1.6.3->tensorboard<2.15,>=2.14->tensorflow[and-cuda]) (5.3.1)\n",
      "Requirement already satisfied: pyasn1-modules>=0.2.1 in /opt/conda/lib/python3.10/site-packages (from google-auth<3,>=1.6.3->tensorboard<2.15,>=2.14->tensorflow[and-cuda]) (0.3.0)\n",
      "Requirement already satisfied: rsa<5,>=3.1.4 in /opt/conda/lib/python3.10/site-packages (from google-auth<3,>=1.6.3->tensorboard<2.15,>=2.14->tensorflow[and-cuda]) (4.9)\n",
      "Requirement already satisfied: urllib3<2.0 in /opt/conda/lib/python3.10/site-packages (from google-auth<3,>=1.6.3->tensorboard<2.15,>=2.14->tensorflow[and-cuda]) (1.26.11)\n",
      "Requirement already satisfied: requests-oauthlib>=0.7.0 in /opt/conda/lib/python3.10/site-packages (from google-auth-oauthlib<1.1,>=0.5->tensorboard<2.15,>=2.14->tensorflow[and-cuda]) (1.3.1)\n",
      "Requirement already satisfied: charset-normalizer<3,>=2 in /opt/conda/lib/python3.10/site-packages (from requests<3,>=2.21.0->tensorboard<2.15,>=2.14->tensorflow[and-cuda]) (2.1.1)\n",
      "Requirement already satisfied: idna<4,>=2.5 in /opt/conda/lib/python3.10/site-packages (from requests<3,>=2.21.0->tensorboard<2.15,>=2.14->tensorflow[and-cuda]) (3.3)\n",
      "Requirement already satisfied: certifi>=2017.4.17 in /opt/conda/lib/python3.10/site-packages (from requests<3,>=2.21.0->tensorboard<2.15,>=2.14->tensorflow[and-cuda]) (2022.6.15.1)\n",
      "Requirement already satisfied: MarkupSafe>=2.1.1 in /opt/conda/lib/python3.10/site-packages (from werkzeug>=1.0.1->tensorboard<2.15,>=2.14->tensorflow[and-cuda]) (2.1.1)\n",
      "Requirement already satisfied: pyasn1<0.6.0,>=0.4.6 in /opt/conda/lib/python3.10/site-packages (from pyasn1-modules>=0.2.1->google-auth<3,>=1.6.3->tensorboard<2.15,>=2.14->tensorflow[and-cuda]) (0.5.0)\n",
      "Requirement already satisfied: oauthlib>=3.0.0 in /opt/conda/lib/python3.10/site-packages (from requests-oauthlib>=0.7.0->google-auth-oauthlib<1.1,>=0.5->tensorboard<2.15,>=2.14->tensorflow[and-cuda]) (3.2.1)\n",
      "Installing collected packages: libclang, wrapt, termcolor, tensorflow-io-gcs-filesystem, tensorflow-estimator, tensorboard-data-server, opt-einsum, nvidia-nccl-cu11, nvidia-cusparse-cu11, nvidia-curand-cu11, nvidia-cuda-runtime-cu11, nvidia-cuda-nvcc-cu11, nvidia-cuda-cupti-cu11, nvidia-cublas-cu11, ml-dtypes, keras, h5py, grpcio, google-pasta, gast, astunparse, absl-py, nvidia-cusolver-cu11, nvidia-cudnn-cu11, tensorrt, tensorboard, tensorflow\n",
      "  Attempting uninstall: wrapt\n",
      "    Found existing installation: wrapt 1.15.0\n",
      "    Uninstalling wrapt-1.15.0:\n",
      "      Successfully uninstalled wrapt-1.15.0\n",
      "  Attempting uninstall: nvidia-nccl-cu11\n",
      "    Found existing installation: nvidia-nccl-cu11 2.14.3\n",
      "    Uninstalling nvidia-nccl-cu11-2.14.3:\n",
      "      Successfully uninstalled nvidia-nccl-cu11-2.14.3\n",
      "  Attempting uninstall: nvidia-cusparse-cu11\n",
      "    Found existing installation: nvidia-cusparse-cu11 11.7.4.91\n",
      "    Uninstalling nvidia-cusparse-cu11-11.7.4.91:\n",
      "      Successfully uninstalled nvidia-cusparse-cu11-11.7.4.91\n",
      "  Attempting uninstall: nvidia-curand-cu11\n",
      "    Found existing installation: nvidia-curand-cu11 10.2.10.91\n",
      "    Uninstalling nvidia-curand-cu11-10.2.10.91:\n",
      "      Successfully uninstalled nvidia-curand-cu11-10.2.10.91\n",
      "  Attempting uninstall: nvidia-cuda-runtime-cu11\n",
      "    Found existing installation: nvidia-cuda-runtime-cu11 11.7.99\n",
      "    Uninstalling nvidia-cuda-runtime-cu11-11.7.99:\n",
      "      Successfully uninstalled nvidia-cuda-runtime-cu11-11.7.99\n",
      "  Attempting uninstall: nvidia-cuda-cupti-cu11\n",
      "    Found existing installation: nvidia-cuda-cupti-cu11 11.7.101\n",
      "    Uninstalling nvidia-cuda-cupti-cu11-11.7.101:\n",
      "      Successfully uninstalled nvidia-cuda-cupti-cu11-11.7.101\n",
      "  Attempting uninstall: nvidia-cublas-cu11\n",
      "    Found existing installation: nvidia-cublas-cu11 11.10.3.66\n",
      "    Uninstalling nvidia-cublas-cu11-11.10.3.66:\n",
      "      Successfully uninstalled nvidia-cublas-cu11-11.10.3.66\n",
      "  Attempting uninstall: nvidia-cusolver-cu11\n",
      "    Found existing installation: nvidia-cusolver-cu11 11.4.0.1\n",
      "    Uninstalling nvidia-cusolver-cu11-11.4.0.1:\n",
      "      Successfully uninstalled nvidia-cusolver-cu11-11.4.0.1\n",
      "  Attempting uninstall: nvidia-cudnn-cu11\n",
      "    Found existing installation: nvidia-cudnn-cu11 8.5.0.96\n",
      "    Uninstalling nvidia-cudnn-cu11-8.5.0.96:\n",
      "      Successfully uninstalled nvidia-cudnn-cu11-8.5.0.96\n",
      "\u001b[31mERROR: pip's dependency resolver does not currently take into account all the packages that are installed. This behaviour is the source of the following dependency conflicts.\n",
      "torch 2.0.1 requires nvidia-cublas-cu11==11.10.3.66; platform_system == \"Linux\" and platform_machine == \"x86_64\", but you have nvidia-cublas-cu11 11.11.3.6 which is incompatible.\n",
      "torch 2.0.1 requires nvidia-cuda-cupti-cu11==11.7.101; platform_system == \"Linux\" and platform_machine == \"x86_64\", but you have nvidia-cuda-cupti-cu11 11.8.87 which is incompatible.\n",
      "torch 2.0.1 requires nvidia-cuda-runtime-cu11==11.7.99; platform_system == \"Linux\" and platform_machine == \"x86_64\", but you have nvidia-cuda-runtime-cu11 11.8.89 which is incompatible.\n",
      "torch 2.0.1 requires nvidia-cudnn-cu11==8.5.0.96; platform_system == \"Linux\" and platform_machine == \"x86_64\", but you have nvidia-cudnn-cu11 8.7.0.84 which is incompatible.\n",
      "torch 2.0.1 requires nvidia-curand-cu11==10.2.10.91; platform_system == \"Linux\" and platform_machine == \"x86_64\", but you have nvidia-curand-cu11 10.3.0.86 which is incompatible.\n",
      "torch 2.0.1 requires nvidia-cusolver-cu11==11.4.0.1; platform_system == \"Linux\" and platform_machine == \"x86_64\", but you have nvidia-cusolver-cu11 11.4.1.48 which is incompatible.\n",
      "torch 2.0.1 requires nvidia-cusparse-cu11==11.7.4.91; platform_system == \"Linux\" and platform_machine == \"x86_64\", but you have nvidia-cusparse-cu11 11.7.5.86 which is incompatible.\n",
      "torch 2.0.1 requires nvidia-nccl-cu11==2.14.3; platform_system == \"Linux\" and platform_machine == \"x86_64\", but you have nvidia-nccl-cu11 2.16.5 which is incompatible.\u001b[0m\u001b[31m\n",
      "\u001b[0mSuccessfully installed absl-py-2.0.0 astunparse-1.6.3 gast-0.5.4 google-pasta-0.2.0 grpcio-1.59.0 h5py-3.10.0 keras-2.14.0 libclang-16.0.6 ml-dtypes-0.2.0 nvidia-cublas-cu11-11.11.3.6 nvidia-cuda-cupti-cu11-11.8.87 nvidia-cuda-nvcc-cu11-11.8.89 nvidia-cuda-runtime-cu11-11.8.89 nvidia-cudnn-cu11-8.7.0.84 nvidia-curand-cu11-10.3.0.86 nvidia-cusolver-cu11-11.4.1.48 nvidia-cusparse-cu11-11.7.5.86 nvidia-nccl-cu11-2.16.5 opt-einsum-3.3.0 tensorboard-2.14.1 tensorboard-data-server-0.7.2 tensorflow-2.14.0 tensorflow-estimator-2.14.0 tensorflow-io-gcs-filesystem-0.34.0 tensorrt-8.5.3.1 termcolor-2.3.0 wrapt-1.14.1\n",
      "\n",
      "\u001b[1m[\u001b[0m\u001b[34;49mnotice\u001b[0m\u001b[1;39;49m]\u001b[0m\u001b[39;49m A new release of pip is available: \u001b[0m\u001b[31;49m23.1.2\u001b[0m\u001b[39;49m -> \u001b[0m\u001b[32;49m23.3.1\u001b[0m\n",
      "\u001b[1m[\u001b[0m\u001b[34;49mnotice\u001b[0m\u001b[1;39;49m]\u001b[0m\u001b[39;49m To update, run: \u001b[0m\u001b[32;49mpip install --upgrade pip\u001b[0m\n",
      "Looking in indexes: https://repo.nferx.com/repository/pypi-all/simple/\n",
      "Collecting nvidia-cudnn-cu11==8.6.0.163\n",
      "\u001b[33m  WARNING: Retrying (Retry(total=4, connect=None, read=None, redirect=None, status=None)) after connection broken by 'ReadTimeoutError(\"HTTPSConnectionPool(host='repo.nferx.com', port=443): Read timed out. (read timeout=15)\")': /repository/pypi-all/packages/nvidia-cudnn-cu11/8.6.0.163/nvidia_cudnn_cu11-8.6.0.163-py3-none-manylinux1_x86_64.whl\u001b[0m\u001b[33m\n",
      "\u001b[0m  Downloading https://repo.nferx.com/repository/pypi-all/packages/nvidia-cudnn-cu11/8.6.0.163/nvidia_cudnn_cu11-8.6.0.163-py3-none-manylinux1_x86_64.whl (715.7 MB)\n",
      "\u001b[2K     \u001b[90m━━━━━━━━━━━━━━━━━━━━━━━━━━━━━━━━━━━━━\u001b[0m \u001b[32m715.7/715.7 MB\u001b[0m \u001b[31m182.9 MB/s\u001b[0m eta \u001b[36m0:00:00\u001b[0m00:01\u001b[0m00:01\u001b[0m\n",
      "\u001b[?25hRequirement already satisfied: nvidia-cublas-cu11 in /opt/conda/lib/python3.10/site-packages (from nvidia-cudnn-cu11==8.6.0.163) (11.11.3.6)\n",
      "Installing collected packages: nvidia-cudnn-cu11\n",
      "  Attempting uninstall: nvidia-cudnn-cu11\n",
      "    Found existing installation: nvidia-cudnn-cu11 8.7.0.84\n",
      "    Uninstalling nvidia-cudnn-cu11-8.7.0.84:\n",
      "      Successfully uninstalled nvidia-cudnn-cu11-8.7.0.84\n",
      "\u001b[31mERROR: pip's dependency resolver does not currently take into account all the packages that are installed. This behaviour is the source of the following dependency conflicts.\n",
      "torch 2.0.1 requires nvidia-cublas-cu11==11.10.3.66; platform_system == \"Linux\" and platform_machine == \"x86_64\", but you have nvidia-cublas-cu11 11.11.3.6 which is incompatible.\n",
      "torch 2.0.1 requires nvidia-cuda-cupti-cu11==11.7.101; platform_system == \"Linux\" and platform_machine == \"x86_64\", but you have nvidia-cuda-cupti-cu11 11.8.87 which is incompatible.\n",
      "torch 2.0.1 requires nvidia-cuda-runtime-cu11==11.7.99; platform_system == \"Linux\" and platform_machine == \"x86_64\", but you have nvidia-cuda-runtime-cu11 11.8.89 which is incompatible.\n",
      "torch 2.0.1 requires nvidia-cudnn-cu11==8.5.0.96; platform_system == \"Linux\" and platform_machine == \"x86_64\", but you have nvidia-cudnn-cu11 8.6.0.163 which is incompatible.\n",
      "torch 2.0.1 requires nvidia-curand-cu11==10.2.10.91; platform_system == \"Linux\" and platform_machine == \"x86_64\", but you have nvidia-curand-cu11 10.3.0.86 which is incompatible.\n",
      "torch 2.0.1 requires nvidia-cusolver-cu11==11.4.0.1; platform_system == \"Linux\" and platform_machine == \"x86_64\", but you have nvidia-cusolver-cu11 11.4.1.48 which is incompatible.\n",
      "torch 2.0.1 requires nvidia-cusparse-cu11==11.7.4.91; platform_system == \"Linux\" and platform_machine == \"x86_64\", but you have nvidia-cusparse-cu11 11.7.5.86 which is incompatible.\n",
      "torch 2.0.1 requires nvidia-nccl-cu11==2.14.3; platform_system == \"Linux\" and platform_machine == \"x86_64\", but you have nvidia-nccl-cu11 2.16.5 which is incompatible.\u001b[0m\u001b[31m\n",
      "\u001b[0mSuccessfully installed nvidia-cudnn-cu11-8.6.0.163\n",
      "\n",
      "\u001b[1m[\u001b[0m\u001b[34;49mnotice\u001b[0m\u001b[1;39;49m]\u001b[0m\u001b[39;49m A new release of pip is available: \u001b[0m\u001b[31;49m23.1.2\u001b[0m\u001b[39;49m -> \u001b[0m\u001b[32;49m23.3.1\u001b[0m\n",
      "\u001b[1m[\u001b[0m\u001b[34;49mnotice\u001b[0m\u001b[1;39;49m]\u001b[0m\u001b[39;49m To update, run: \u001b[0m\u001b[32;49mpip install --upgrade pip\u001b[0m\n"
     ]
    }
   ],
   "source": [
    "# Uncomment and run for GPU run\n",
    "#!pip install tensorflow[and-cuda]\n",
    "#!pip install nvidia-cudnn-cu11==8.6.0.163"
   ]
  },
  {
   "cell_type": "code",
   "execution_count": 2,
   "id": "deae94cf-b990-48ca-b168-6a8e1db4c224",
   "metadata": {
    "collapsed": true,
    "id": "deae94cf-b990-48ca-b168-6a8e1db4c224",
    "jupyter": {
     "outputs_hidden": true
    },
    "tags": []
   },
   "outputs": [
    {
     "name": "stderr",
     "output_type": "stream",
     "text": [
      "2023-10-25 09:29:59.680750: E tensorflow/compiler/xla/stream_executor/cuda/cuda_dnn.cc:9342] Unable to register cuDNN factory: Attempting to register factory for plugin cuDNN when one has already been registered\n",
      "2023-10-25 09:29:59.680818: E tensorflow/compiler/xla/stream_executor/cuda/cuda_fft.cc:609] Unable to register cuFFT factory: Attempting to register factory for plugin cuFFT when one has already been registered\n",
      "2023-10-25 09:29:59.680862: E tensorflow/compiler/xla/stream_executor/cuda/cuda_blas.cc:1518] Unable to register cuBLAS factory: Attempting to register factory for plugin cuBLAS when one has already been registered\n",
      "2023-10-25 09:29:59.691785: I tensorflow/core/platform/cpu_feature_guard.cc:182] This TensorFlow binary is optimized to use available CPU instructions in performance-critical operations.\n",
      "To enable the following instructions: AVX2 FMA, in other operations, rebuild TensorFlow with the appropriate compiler flags.\n"
     ]
    }
   ],
   "source": [
    "import warnings\n",
    "warnings.filterwarnings(\"ignore\")\n",
    "import tensorflow as tf\n",
    "import numpy as np\n",
    "import csv\n",
    "import random\n",
    "import pandas as pd\n",
    "\n",
    "from tensorflow.keras.preprocessing.text import Tokenizer\n",
    "from tensorflow.keras.preprocessing.sequence import pad_sequences\n",
    "from tensorflow.keras.utils import to_categorical\n",
    "from tensorflow.keras import regularizers\n",
    "from tensorflow.keras import optimizers"
   ]
  },
  {
   "cell_type": "markdown",
   "id": "16a33961-0d4f-44aa-b2c8-3c3e55fc04d4",
   "metadata": {
    "id": "16a33961-0d4f-44aa-b2c8-3c3e55fc04d4"
   },
   "source": [
    "## Importing the cleaned KiBA dataset"
   ]
  },
  {
   "cell_type": "code",
   "execution_count": 3,
   "id": "cb25ae9b-da5f-4bc3-89bb-2edb408c2bd2",
   "metadata": {
    "colab": {
     "base_uri": "https://localhost:8080/",
     "height": 143
    },
    "collapsed": true,
    "id": "cb25ae9b-da5f-4bc3-89bb-2edb408c2bd2",
    "jupyter": {
     "outputs_hidden": true
    },
    "outputId": "5ce71b72-6c2f-4a74-d817-a09d7d9de757",
    "tags": []
   },
   "outputs": [
    {
     "data": {
      "text/html": [
       "<div>\n",
       "<style scoped>\n",
       "    .dataframe tbody tr th:only-of-type {\n",
       "        vertical-align: middle;\n",
       "    }\n",
       "\n",
       "    .dataframe tbody tr th {\n",
       "        vertical-align: top;\n",
       "    }\n",
       "\n",
       "    .dataframe thead th {\n",
       "        text-align: right;\n",
       "    }\n",
       "</style>\n",
       "<table border=\"1\" class=\"dataframe\">\n",
       "  <thead>\n",
       "    <tr style=\"text-align: right;\">\n",
       "      <th></th>\n",
       "      <th>Ligand</th>\n",
       "      <th>Ligand_SMILES</th>\n",
       "      <th>Protein</th>\n",
       "      <th>Protein_Seq</th>\n",
       "      <th>KiBA_Score</th>\n",
       "    </tr>\n",
       "  </thead>\n",
       "  <tbody>\n",
       "    <tr>\n",
       "      <th>0</th>\n",
       "      <td>CHEMBL10</td>\n",
       "      <td>C[S+]([O-])c1ccc(-c2nc(-c3ccc(F)cc3)c(-c3ccncc...</td>\n",
       "      <td>O00238</td>\n",
       "      <td>MLLRSAGKLNVGTKKEDGESTAPTPRPKVLRCKCHHHCPEDSVNNI...</td>\n",
       "      <td>3.518514</td>\n",
       "    </tr>\n",
       "    <tr>\n",
       "      <th>1</th>\n",
       "      <td>CHEMBL10</td>\n",
       "      <td>C[S+]([O-])c1ccc(-c2nc(-c3ccc(F)cc3)c(-c3ccncc...</td>\n",
       "      <td>O00311</td>\n",
       "      <td>MEASLGIQMDEPMAFSPQRDRFQAEGSLKKNEQNFKLAGVKKDIEK...</td>\n",
       "      <td>3.100002</td>\n",
       "    </tr>\n",
       "    <tr>\n",
       "      <th>2</th>\n",
       "      <td>CHEMBL10</td>\n",
       "      <td>C[S+]([O-])c1ccc(-c2nc(-c3ccc(F)cc3)c(-c3ccncc...</td>\n",
       "      <td>O00329</td>\n",
       "      <td>MPPGVDCPMEFWTKEENQSVVVDFLLPTGVYLNFPVSRNANLSTIK...</td>\n",
       "      <td>4.000000</td>\n",
       "    </tr>\n",
       "  </tbody>\n",
       "</table>\n",
       "</div>"
      ],
      "text/plain": [
       "     Ligand                                      Ligand_SMILES Protein  \\\n",
       "0  CHEMBL10  C[S+]([O-])c1ccc(-c2nc(-c3ccc(F)cc3)c(-c3ccncc...  O00238   \n",
       "1  CHEMBL10  C[S+]([O-])c1ccc(-c2nc(-c3ccc(F)cc3)c(-c3ccncc...  O00311   \n",
       "2  CHEMBL10  C[S+]([O-])c1ccc(-c2nc(-c3ccc(F)cc3)c(-c3ccncc...  O00329   \n",
       "\n",
       "                                         Protein_Seq  KiBA_Score  \n",
       "0  MLLRSAGKLNVGTKKEDGESTAPTPRPKVLRCKCHHHCPEDSVNNI...    3.518514  \n",
       "1  MEASLGIQMDEPMAFSPQRDRFQAEGSLKKNEQNFKLAGVKKDIEK...    3.100002  \n",
       "2  MPPGVDCPMEFWTKEENQSVVVDFLLPTGVYLNFPVSRNANLSTIK...    4.000000  "
      ]
     },
     "execution_count": 3,
     "metadata": {},
     "output_type": "execute_result"
    }
   ],
   "source": [
    "all_dt_df = pd.read_excel('KiBA_dataset.xlsx')\n",
    "all_dt_df.head(3)"
   ]
  },
  {
   "cell_type": "code",
   "execution_count": 4,
   "id": "f1f67756-953e-478b-8d6b-255fdebf3327",
   "metadata": {
    "colab": {
     "base_uri": "https://localhost:8080/",
     "height": 195
    },
    "id": "f1f67756-953e-478b-8d6b-255fdebf3327",
    "outputId": "dbda2c09-7d7f-41c6-96ac-ed9ecb55fd2c",
    "tags": []
   },
   "outputs": [
    {
     "data": {
      "text/html": [
       "<div>\n",
       "<style scoped>\n",
       "    .dataframe tbody tr th:only-of-type {\n",
       "        vertical-align: middle;\n",
       "    }\n",
       "\n",
       "    .dataframe tbody tr th {\n",
       "        vertical-align: top;\n",
       "    }\n",
       "\n",
       "    .dataframe thead th {\n",
       "        text-align: right;\n",
       "    }\n",
       "</style>\n",
       "<table border=\"1\" class=\"dataframe\">\n",
       "  <thead>\n",
       "    <tr style=\"text-align: right;\">\n",
       "      <th></th>\n",
       "      <th>Ligand</th>\n",
       "      <th>Ligand_SMILES</th>\n",
       "      <th>Protein</th>\n",
       "      <th>Protein_Seq</th>\n",
       "      <th>KiBA_Score</th>\n",
       "      <th>SMILES_len</th>\n",
       "      <th>Seq_len</th>\n",
       "    </tr>\n",
       "  </thead>\n",
       "  <tbody>\n",
       "    <tr>\n",
       "      <th>0</th>\n",
       "      <td>CHEMBL10</td>\n",
       "      <td>C[S+]([O-])c1ccc(-c2nc(-c3ccc(F)cc3)c(-c3ccncc...</td>\n",
       "      <td>O00238</td>\n",
       "      <td>MLLRSAGKLNVGTKKEDGESTAPTPRPKVLRCKCHHHCPEDSVNNI...</td>\n",
       "      <td>3.518514</td>\n",
       "      <td>57</td>\n",
       "      <td>502</td>\n",
       "    </tr>\n",
       "    <tr>\n",
       "      <th>1</th>\n",
       "      <td>CHEMBL10</td>\n",
       "      <td>C[S+]([O-])c1ccc(-c2nc(-c3ccc(F)cc3)c(-c3ccncc...</td>\n",
       "      <td>O00311</td>\n",
       "      <td>MEASLGIQMDEPMAFSPQRDRFQAEGSLKKNEQNFKLAGVKKDIEK...</td>\n",
       "      <td>3.100002</td>\n",
       "      <td>57</td>\n",
       "      <td>574</td>\n",
       "    </tr>\n",
       "    <tr>\n",
       "      <th>2</th>\n",
       "      <td>CHEMBL10</td>\n",
       "      <td>C[S+]([O-])c1ccc(-c2nc(-c3ccc(F)cc3)c(-c3ccncc...</td>\n",
       "      <td>O00329</td>\n",
       "      <td>MPPGVDCPMEFWTKEENQSVVVDFLLPTGVYLNFPVSRNANLSTIK...</td>\n",
       "      <td>4.000000</td>\n",
       "      <td>57</td>\n",
       "      <td>1044</td>\n",
       "    </tr>\n",
       "  </tbody>\n",
       "</table>\n",
       "</div>"
      ],
      "text/plain": [
       "     Ligand                                      Ligand_SMILES Protein  \\\n",
       "0  CHEMBL10  C[S+]([O-])c1ccc(-c2nc(-c3ccc(F)cc3)c(-c3ccncc...  O00238   \n",
       "1  CHEMBL10  C[S+]([O-])c1ccc(-c2nc(-c3ccc(F)cc3)c(-c3ccncc...  O00311   \n",
       "2  CHEMBL10  C[S+]([O-])c1ccc(-c2nc(-c3ccc(F)cc3)c(-c3ccncc...  O00329   \n",
       "\n",
       "                                         Protein_Seq  KiBA_Score  SMILES_len  \\\n",
       "0  MLLRSAGKLNVGTKKEDGESTAPTPRPKVLRCKCHHHCPEDSVNNI...    3.518514          57   \n",
       "1  MEASLGIQMDEPMAFSPQRDRFQAEGSLKKNEQNFKLAGVKKDIEK...    3.100002          57   \n",
       "2  MPPGVDCPMEFWTKEENQSVVVDFLLPTGVYLNFPVSRNANLSTIK...    4.000000          57   \n",
       "\n",
       "   Seq_len  \n",
       "0      502  \n",
       "1      574  \n",
       "2     1044  "
      ]
     },
     "execution_count": 4,
     "metadata": {},
     "output_type": "execute_result"
    }
   ],
   "source": [
    "all_dt_df['SMILES_len'] = [len(i) for i in all_dt_df['Ligand_SMILES']] #Saving length of each SMILES in a separate column\n",
    "all_dt_df['Seq_len'] = [len(i) for i in all_dt_df['Protein_Seq']] #Saving length of each Protein sequence in a separate column\n",
    "all_dt_df.head(3)"
   ]
  },
  {
   "cell_type": "code",
   "execution_count": 5,
   "id": "5a0c1fc1-a14f-46fb-bd24-59a293892b01",
   "metadata": {
    "colab": {
     "base_uri": "https://localhost:8080/"
    },
    "id": "5a0c1fc1-a14f-46fb-bd24-59a293892b01",
    "outputId": "8b42b376-b1e3-41ec-dcd8-e196ebf30c45",
    "tags": []
   },
   "outputs": [
    {
     "data": {
      "text/plain": [
       "count    240993.000000\n",
       "mean         49.928878\n",
       "std          17.515666\n",
       "min           2.000000\n",
       "25%          41.000000\n",
       "50%          48.000000\n",
       "75%          57.000000\n",
       "max         694.000000\n",
       "Name: SMILES_len, dtype: float64"
      ]
     },
     "execution_count": 5,
     "metadata": {},
     "output_type": "execute_result"
    }
   ],
   "source": [
    "all_dt_df['SMILES_len'].describe()"
   ]
  },
  {
   "cell_type": "code",
   "execution_count": 6,
   "id": "6f393353-6440-4668-979d-53c9110acc9c",
   "metadata": {
    "colab": {
     "base_uri": "https://localhost:8080/"
    },
    "id": "6f393353-6440-4668-979d-53c9110acc9c",
    "outputId": "7e3d61f1-655a-47d9-99ee-8281c5b59660",
    "tags": []
   },
   "outputs": [
    {
     "data": {
      "text/plain": [
       "72.0"
      ]
     },
     "execution_count": 6,
     "metadata": {},
     "output_type": "execute_result"
    }
   ],
   "source": [
    "all_dt_df['SMILES_len'].quantile(0.95)"
   ]
  },
  {
   "cell_type": "code",
   "execution_count": 7,
   "id": "5582ec8e-92b2-4340-9bd9-88d9c5aafa68",
   "metadata": {
    "colab": {
     "base_uri": "https://localhost:8080/"
    },
    "id": "5582ec8e-92b2-4340-9bd9-88d9c5aafa68",
    "outputId": "87607c0a-af75-4941-d0ec-159f8c06f601",
    "tags": []
   },
   "outputs": [
    {
     "data": {
      "text/plain": [
       "count    240993.000000\n",
       "mean        755.094306\n",
       "std         442.899389\n",
       "min         115.000000\n",
       "25%         424.000000\n",
       "50%         626.000000\n",
       "75%        1038.000000\n",
       "max        4128.000000\n",
       "Name: Seq_len, dtype: float64"
      ]
     },
     "execution_count": 7,
     "metadata": {},
     "output_type": "execute_result"
    }
   ],
   "source": [
    "all_dt_df['Seq_len'].describe()"
   ]
  },
  {
   "cell_type": "code",
   "execution_count": 8,
   "id": "704e7ce7-82b0-4a68-966e-5db9e5e5f3db",
   "metadata": {
    "colab": {
     "base_uri": "https://localhost:8080/"
    },
    "id": "704e7ce7-82b0-4a68-966e-5db9e5e5f3db",
    "outputId": "a408680b-1d31-4c0b-f3d2-15b428152320",
    "tags": []
   },
   "outputs": [
    {
     "data": {
      "text/plain": [
       "1382.0"
      ]
     },
     "execution_count": 8,
     "metadata": {},
     "output_type": "execute_result"
    }
   ],
   "source": [
    "all_dt_df['Seq_len'].quantile(0.95)"
   ]
  },
  {
   "cell_type": "code",
   "execution_count": 9,
   "id": "c515f8df-ebaa-4bc5-8a9f-884a49c0d97e",
   "metadata": {
    "id": "c515f8df-ebaa-4bc5-8a9f-884a49c0d97e",
    "tags": []
   },
   "outputs": [],
   "source": [
    "import matplotlib.pyplot as plt"
   ]
  },
  {
   "cell_type": "code",
   "execution_count": 10,
   "id": "cd30a909-981f-4643-8102-22bcc61db8c5",
   "metadata": {
    "colab": {
     "base_uri": "https://localhost:8080/",
     "height": 489
    },
    "id": "cd30a909-981f-4643-8102-22bcc61db8c5",
    "outputId": "f20c8222-6ec5-43a7-dc6a-8feb75d37dbd",
    "tags": []
   },
   "outputs": [
    {
     "data": {
      "text/plain": [
       "Text(0.5, 1.0, 'Distribution of Ligand-SMILES length in the KiBA dataset')"
      ]
     },
     "execution_count": 10,
     "metadata": {},
     "output_type": "execute_result"
    },
    {
     "data": {
      "image/png": "[encoded data removed]",
      "text/plain": [
       "<Figure size 640x480 with 1 Axes>"
      ]
     },
     "metadata": {},
     "output_type": "display_data"
    }
   ],
   "source": [
    "plt.hist(all_dt_df['SMILES_len'],color='gray',edgecolor='black')\n",
    "plt.xlabel('Length of SMILES')\n",
    "plt.ylabel('Number of Ligands')\n",
    "plt.title('Distribution of Ligand-SMILES length in the KiBA dataset')"
   ]
  },
  {
   "cell_type": "code",
   "execution_count": 11,
   "id": "d84a9f9e-a893-4643-bc84-a95d2700d034",
   "metadata": {
    "colab": {
     "base_uri": "https://localhost:8080/",
     "height": 489
    },
    "id": "d84a9f9e-a893-4643-bc84-a95d2700d034",
    "outputId": "49213be7-b9f7-4ecf-dc1b-faf58315cd87",
    "tags": []
   },
   "outputs": [
    {
     "data": {
      "text/plain": [
       "Text(0.5, 1.0, 'Distribution of Protein Sequence length in the KiBA dataset')"
      ]
     },
     "execution_count": 11,
     "metadata": {},
     "output_type": "execute_result"
    },
    {
     "data": {
      "image/png": "[encoded data removed]",
      "text/plain": [
       "<Figure size 640x480 with 1 Axes>"
      ]
     },
     "metadata": {},
     "output_type": "display_data"
    }
   ],
   "source": [
    "plt.hist(all_dt_df['Seq_len'],color='gray',edgecolor='black')\n",
    "plt.xlabel('Length of Protein Sequence')\n",
    "plt.ylabel('Number of Proteins')\n",
    "plt.title('Distribution of Protein Sequence length in the KiBA dataset')"
   ]
  },
  {
   "cell_type": "code",
   "execution_count": 12,
   "id": "14311d9d-ffe1-409b-82c8-56e5af408a5e",
   "metadata": {
    "colab": {
     "base_uri": "https://localhost:8080/"
    },
    "id": "14311d9d-ffe1-409b-82c8-56e5af408a5e",
    "outputId": "6bc1b860-835e-4eae-a342-ae41c93ed2cc",
    "tags": []
   },
   "outputs": [
    {
     "data": {
      "text/plain": [
       "240993"
      ]
     },
     "execution_count": 12,
     "metadata": {},
     "output_type": "execute_result"
    }
   ],
   "source": [
    "all_dt_df = all_dt_df.sample(frac=1).reset_index(drop=True) #Random shuffling of the dataset\n",
    "data = all_dt_df[['Ligand_SMILES','Protein_Seq','KiBA_Score']].values.tolist()\n",
    "len(data) #Total interaction informations available"
   ]
  },
  {
   "cell_type": "code",
   "execution_count": 13,
   "id": "f897c9b8-dcaf-431f-a00c-e48e054f0e56",
   "metadata": {
    "id": "f897c9b8-dcaf-431f-a00c-e48e054f0e56",
    "tags": []
   },
   "outputs": [],
   "source": [
    "smiles = all_dt_df['Ligand_SMILES'].tolist()\n",
    "proteins = all_dt_df['Protein_Seq'].tolist()\n",
    "labels = all_dt_df['KiBA_Score'].tolist()"
   ]
  },
  {
   "cell_type": "code",
   "execution_count": 14,
   "id": "b4cc2b35-b57a-4a63-9cb1-8d49c7fc2080",
   "metadata": {
    "colab": {
     "base_uri": "https://localhost:8080/"
    },
    "id": "b4cc2b35-b57a-4a63-9cb1-8d49c7fc2080",
    "outputId": "016158e1-0cd7-4cc1-92aa-73a01c94d18b",
    "tags": []
   },
   "outputs": [
    {
     "name": "stdout",
     "output_type": "stream",
     "text": [
      "Total number of unique proteins: 467\n",
      "Total number of unique ligands: 51555\n"
     ]
    }
   ],
   "source": [
    "print(f'Total number of unique proteins: {len(set(proteins))}')\n",
    "print(f'Total number of unique ligands: {len(set(smiles))}')"
   ]
  },
  {
   "cell_type": "code",
   "execution_count": 15,
   "id": "b6770ffc-51b1-4ee9-af82-ecc9568bcf3d",
   "metadata": {
    "colab": {
     "base_uri": "https://localhost:8080/"
    },
    "id": "b6770ffc-51b1-4ee9-af82-ecc9568bcf3d",
    "outputId": "dfca9741-f060-4f93-ee3a-0dfcd8abbbdd",
    "tags": []
   },
   "outputs": [
    {
     "name": "stdin",
     "output_type": "stream",
     "text": [
      "Enter training-test data split percentage: 80\n"
     ]
    }
   ],
   "source": [
    "# Splitting the dataset into training and test data (80-20 split commonly used)\n",
    "split_percentage = int(input('Enter training-test data split percentage:'))"
   ]
  },
  {
   "cell_type": "code",
   "execution_count": 16,
   "id": "e85f4a7b-40d1-47c8-a2f7-f9664dd2d1dc",
   "metadata": {
    "id": "e85f4a7b-40d1-47c8-a2f7-f9664dd2d1dc",
    "tags": []
   },
   "outputs": [],
   "source": [
    "split = int(split_percentage/100 * len(smiles))\n",
    "train_smiles, train_proteins, train_labels = smiles[:split],proteins[:split],labels[:split]\n",
    "test_smiles, test_proteins, test_labels = smiles[split:],proteins[split:],labels[split:]"
   ]
  },
  {
   "cell_type": "code",
   "execution_count": 17,
   "id": "b157aa51-7891-4b28-9d4a-0f34b907ead1",
   "metadata": {
    "id": "b157aa51-7891-4b28-9d4a-0f34b907ead1",
    "tags": []
   },
   "outputs": [],
   "source": [
    "max_smiles_len = all_dt_df['SMILES_len'].quantile(0.95) #SMILES length covering 95% of the ligands\n",
    "max_seq_len = all_dt_df['Seq_len'].quantile(0.95) #Sequence length covering 95% of the proteins"
   ]
  },
  {
   "cell_type": "markdown",
   "id": "177ec2ee-8eb7-49be-a992-80efa5c73368",
   "metadata": {
    "id": "177ec2ee-8eb7-49be-a992-80efa5c73368"
   },
   "source": [
    "## Preprocessing Ligand SMILES"
   ]
  },
  {
   "cell_type": "code",
   "execution_count": 18,
   "id": "7add15a0-0c05-4f66-b242-8a49fea89255",
   "metadata": {
    "id": "7add15a0-0c05-4f66-b242-8a49fea89255",
    "tags": []
   },
   "outputs": [],
   "source": [
    "# Assigning an integer value to each unique SMILES character in the dataset\n",
    "tokenizer_smiles = Tokenizer(char_level=True,lower=False)\n",
    "tokenizer_smiles.fit_on_texts(smiles)"
   ]
  },
  {
   "cell_type": "code",
   "execution_count": 19,
   "id": "2ad1874d-ea6a-4328-8631-bedca3319940",
   "metadata": {
    "id": "2ad1874d-ea6a-4328-8631-bedca3319940",
    "tags": []
   },
   "outputs": [],
   "source": [
    "word_index_smiles = tokenizer_smiles.word_index\n",
    "vocab_size_smiles = len(word_index_smiles)"
   ]
  },
  {
   "cell_type": "code",
   "execution_count": 20,
   "id": "dbb6a91c-dd5c-4afe-9859-9bc7c8f58f17",
   "metadata": {
    "colab": {
     "base_uri": "https://localhost:8080/"
    },
    "id": "dbb6a91c-dd5c-4afe-9859-9bc7c8f58f17",
    "outputId": "096c8510-97f8-4b6a-d55e-a9c3af267ec7",
    "tags": []
   },
   "outputs": [
    {
     "name": "stdout",
     "output_type": "stream",
     "text": [
      "{'c': 1, 'C': 2, '(': 3, ')': 4, '1': 5, '2': 6, 'n': 7, 'O': 8, 'N': 9, '3': 10, '=': 11, '4': 12, '-': 13, '[': 14, ']': 15, 'H': 16, 'F': 17, '@': 18, 'l': 19, '5': 20, 's': 21, 'S': 22, '/': 23, '#': 24, 'o': 25, 'B': 26, 'r': 27, '6': 28, '\\\\': 29, '+': 30, '.': 31, 'I': 32, 'P': 33, '7': 34, '8': 35, 'a': 36, 'e': 37, 'K': 38, 'i': 39, 'A': 40, '9': 41, 'Z': 42, 'L': 43}\n",
      "43\n"
     ]
    }
   ],
   "source": [
    "print(word_index_smiles)\n",
    "print(vocab_size_smiles)"
   ]
  },
  {
   "cell_type": "code",
   "execution_count": 21,
   "id": "fdfc95be-4972-4769-b41e-ad099b9d737d",
   "metadata": {
    "id": "fdfc95be-4972-4769-b41e-ad099b9d737d",
    "tags": []
   },
   "outputs": [],
   "source": [
    "# Label encoding the SMILES data and truncating/padding them so that all of them have a uniform length\n",
    "train_sequences_smiles = tokenizer_smiles.texts_to_sequences(train_smiles)\n",
    "train_padded_smiles = pad_sequences(train_sequences_smiles,truncating=\"post\",padding=\"post\",maxlen=int(max_smiles_len))\n",
    "\n",
    "test_sequences_smiles = tokenizer_smiles.texts_to_sequences(test_smiles)\n",
    "test_padded_smiles = pad_sequences(test_sequences_smiles,truncating=\"post\",padding=\"post\",maxlen=int(max_smiles_len))"
   ]
  },
  {
   "cell_type": "markdown",
   "id": "12007fe2-6ef3-44d5-9bc8-b380fe84f0c8",
   "metadata": {
    "id": "12007fe2-6ef3-44d5-9bc8-b380fe84f0c8"
   },
   "source": [
    "## Preprocessing Protein Sequences"
   ]
  },
  {
   "cell_type": "code",
   "execution_count": 22,
   "id": "58e23a7b-bdfc-4b36-b506-eb5e88542ca8",
   "metadata": {
    "id": "58e23a7b-bdfc-4b36-b506-eb5e88542ca8",
    "tags": []
   },
   "outputs": [],
   "source": [
    "# Assigning an integer value to each unique aminoacid in the dataset\n",
    "tokenizer_proteins = Tokenizer(char_level=True,lower=False)\n",
    "tokenizer_proteins.fit_on_texts(proteins)"
   ]
  },
  {
   "cell_type": "code",
   "execution_count": 23,
   "id": "0066fd8c-182a-4ce3-9ea4-6bb2c25b8b2a",
   "metadata": {
    "id": "0066fd8c-182a-4ce3-9ea4-6bb2c25b8b2a",
    "tags": []
   },
   "outputs": [],
   "source": [
    "word_index_proteins = tokenizer_proteins.word_index\n",
    "vocab_size_proteins = len(word_index_proteins)"
   ]
  },
  {
   "cell_type": "code",
   "execution_count": 24,
   "id": "1f3af820-121a-42a8-b360-c9117dd857bc",
   "metadata": {
    "colab": {
     "base_uri": "https://localhost:8080/"
    },
    "id": "1f3af820-121a-42a8-b360-c9117dd857bc",
    "outputId": "8ceec049-942b-4145-a9e9-d2bead823dfa",
    "tags": []
   },
   "outputs": [
    {
     "name": "stdout",
     "output_type": "stream",
     "text": [
      "{'L': 1, 'S': 2, 'E': 3, 'G': 4, 'V': 5, 'K': 6, 'A': 7, 'P': 8, 'R': 9, 'D': 10, 'T': 11, 'I': 12, 'Q': 13, 'N': 14, 'F': 15, 'Y': 16, 'H': 17, 'M': 18, 'C': 19, 'W': 20}\n",
      "20\n"
     ]
    }
   ],
   "source": [
    "print(word_index_proteins)\n",
    "print(vocab_size_proteins)"
   ]
  },
  {
   "cell_type": "code",
   "execution_count": 25,
   "id": "c60c9137-e5c7-4073-9dd3-ff94d278ce4d",
   "metadata": {
    "id": "c60c9137-e5c7-4073-9dd3-ff94d278ce4d",
    "tags": []
   },
   "outputs": [],
   "source": [
    "# Label encoding the Protein sequences data and truncating/padding them so that all of them have a uniform length\n",
    "train_sequences_proteins = tokenizer_proteins.texts_to_sequences(train_proteins)\n",
    "train_padded_proteins = pad_sequences(train_sequences_proteins,truncating=\"post\",padding=\"post\",maxlen=int(max_seq_len))\n",
    "\n",
    "test_sequences_proteins = tokenizer_proteins.texts_to_sequences(test_proteins)\n",
    "test_padded_proteins = pad_sequences(test_sequences_proteins,truncating=\"post\",padding=\"post\",maxlen=int(max_seq_len))"
   ]
  },
  {
   "cell_type": "code",
   "execution_count": 26,
   "id": "316e2b46-3f7f-4cd7-a6cb-d82764b91dac",
   "metadata": {
    "colab": {
     "base_uri": "https://localhost:8080/"
    },
    "id": "316e2b46-3f7f-4cd7-a6cb-d82764b91dac",
    "outputId": "90a882fc-7a79-4561-ada8-1073d704eb0e",
    "tags": []
   },
   "outputs": [
    {
     "name": "stdout",
     "output_type": "stream",
     "text": [
      "(192794, 72)\n",
      "(48199, 72)\n",
      "(192794, 1382)\n",
      "(48199, 1382)\n",
      "(192794,)\n",
      "(48199,)\n"
     ]
    }
   ],
   "source": [
    "# Coverting all lists to numpy arrays\n",
    "train_smiles_array = np.array(train_padded_smiles)\n",
    "test_smiles_array = np.array(test_padded_smiles)\n",
    "train_proteins_array = np.array(train_padded_proteins)\n",
    "test_proteins_array = np.array(test_padded_proteins)\n",
    "train_labels_array = np.array(train_labels)\n",
    "test_labels_array = np.array(test_labels)\n",
    "\n",
    "print(train_smiles_array.shape)\n",
    "print(test_smiles_array.shape)\n",
    "print(train_proteins_array.shape)\n",
    "print(test_proteins_array.shape)\n",
    "print(train_labels_array.shape)\n",
    "print(test_labels_array.shape)"
   ]
  },
  {
   "cell_type": "markdown",
   "id": "f8f7ce75-8d77-415c-bd72-f24eea22656e",
   "metadata": {
    "id": "f8f7ce75-8d77-415c-bd72-f24eea22656e"
   },
   "source": [
    "## Model building and training"
   ]
  },
  {
   "cell_type": "code",
   "execution_count": 27,
   "id": "6fbddea1-4427-401f-95e7-e2adb5fe6c2a",
   "metadata": {
    "id": "6fbddea1-4427-401f-95e7-e2adb5fe6c2a",
    "tags": []
   },
   "outputs": [],
   "source": [
    "from keras.layers import Input, Embedding, Concatenate, LSTM, GlobalAveragePooling1D, GlobalMaxPooling1D, Dense, Dropout, Reshape, LeakyReLU\n",
    "from keras.models import Model"
   ]
  },
  {
   "cell_type": "code",
   "execution_count": 28,
   "id": "eb0bdf17-6829-4253-94ab-4ee333cef2e2",
   "metadata": {
    "id": "eb0bdf17-6829-4253-94ab-4ee333cef2e2",
    "tags": []
   },
   "outputs": [],
   "source": [
    "smile_input = Input((int(max_smiles_len),))\n",
    "protein_input = Input((int(max_seq_len),))"
   ]
  },
  {
   "cell_type": "code",
   "execution_count": 29,
   "id": "31f01963-e57c-46d5-a9e7-5d168d2f1ffa",
   "metadata": {
    "id": "31f01963-e57c-46d5-a9e7-5d168d2f1ffa",
    "tags": []
   },
   "outputs": [
    {
     "name": "stderr",
     "output_type": "stream",
     "text": [
      "2023-10-25 09:33:40.177413: I tensorflow/compiler/xla/stream_executor/cuda/cuda_gpu_executor.cc:894] successful NUMA node read from SysFS had negative value (-1), but there must be at least one NUMA node, so returning NUMA node zero. See more at https://github.com/torvalds/linux/blob/v6.0/Documentation/ABI/testing/sysfs-bus-pci#L344-L355\n",
      "2023-10-25 09:33:40.415291: I tensorflow/compiler/xla/stream_executor/cuda/cuda_gpu_executor.cc:894] successful NUMA node read from SysFS had negative value (-1), but there must be at least one NUMA node, so returning NUMA node zero. See more at https://github.com/torvalds/linux/blob/v6.0/Documentation/ABI/testing/sysfs-bus-pci#L344-L355\n",
      "2023-10-25 09:33:40.415575: I tensorflow/compiler/xla/stream_executor/cuda/cuda_gpu_executor.cc:894] successful NUMA node read from SysFS had negative value (-1), but there must be at least one NUMA node, so returning NUMA node zero. See more at https://github.com/torvalds/linux/blob/v6.0/Documentation/ABI/testing/sysfs-bus-pci#L344-L355\n",
      "2023-10-25 09:33:40.417412: I tensorflow/compiler/xla/stream_executor/cuda/cuda_gpu_executor.cc:894] successful NUMA node read from SysFS had negative value (-1), but there must be at least one NUMA node, so returning NUMA node zero. See more at https://github.com/torvalds/linux/blob/v6.0/Documentation/ABI/testing/sysfs-bus-pci#L344-L355\n",
      "2023-10-25 09:33:40.417652: I tensorflow/compiler/xla/stream_executor/cuda/cuda_gpu_executor.cc:894] successful NUMA node read from SysFS had negative value (-1), but there must be at least one NUMA node, so returning NUMA node zero. See more at https://github.com/torvalds/linux/blob/v6.0/Documentation/ABI/testing/sysfs-bus-pci#L344-L355\n",
      "2023-10-25 09:33:40.417827: I tensorflow/compiler/xla/stream_executor/cuda/cuda_gpu_executor.cc:894] successful NUMA node read from SysFS had negative value (-1), but there must be at least one NUMA node, so returning NUMA node zero. See more at https://github.com/torvalds/linux/blob/v6.0/Documentation/ABI/testing/sysfs-bus-pci#L344-L355\n",
      "2023-10-25 09:33:41.298589: I tensorflow/compiler/xla/stream_executor/cuda/cuda_gpu_executor.cc:894] successful NUMA node read from SysFS had negative value (-1), but there must be at least one NUMA node, so returning NUMA node zero. See more at https://github.com/torvalds/linux/blob/v6.0/Documentation/ABI/testing/sysfs-bus-pci#L344-L355\n",
      "2023-10-25 09:33:41.298833: I tensorflow/compiler/xla/stream_executor/cuda/cuda_gpu_executor.cc:894] successful NUMA node read from SysFS had negative value (-1), but there must be at least one NUMA node, so returning NUMA node zero. See more at https://github.com/torvalds/linux/blob/v6.0/Documentation/ABI/testing/sysfs-bus-pci#L344-L355\n",
      "2023-10-25 09:33:41.299086: I tensorflow/compiler/xla/stream_executor/cuda/cuda_gpu_executor.cc:894] successful NUMA node read from SysFS had negative value (-1), but there must be at least one NUMA node, so returning NUMA node zero. See more at https://github.com/torvalds/linux/blob/v6.0/Documentation/ABI/testing/sysfs-bus-pci#L344-L355\n",
      "2023-10-25 09:33:41.299256: I tensorflow/core/common_runtime/gpu/gpu_device.cc:1886] Created device /job:localhost/replica:0/task:0/device:GPU:0 with 14616 MB memory:  -> device: 0, name: Tesla V100-SXM2-16GB, pci bus id: 0000:00:04.0, compute capability: 7.0\n",
      "2023-10-25 09:33:41.513071: I tensorflow/tsl/platform/default/subprocess.cc:304] Start cannot spawn child process: No such file or directory\n"
     ]
    }
   ],
   "source": [
    "# Embedding layer for SMILES\n",
    "embed_smiles = Embedding(vocab_size_smiles+1, 128, input_length=max_smiles_len)(smile_input)\n",
    "\n",
    "# LSTM layers for sequence processing\n",
    "lstm_smiles = LSTM(32, return_sequences=True)(embed_smiles)  # LSTM layer with 32 units\n",
    "lstm_smiles = LSTM(64, return_sequences=True)(lstm_smiles)   # LSTM layer with 64 units\n",
    "lstm_smiles = LSTM(96)(lstm_smiles)                         # Final LSTM layer with 96 units\n",
    "\n",
    "# Reshape to add an additional dimension\n",
    "lstm_smiles = Reshape((1, 96))(lstm_smiles)\n",
    "\n",
    "# Global max-pooling layer\n",
    "max_smiles = GlobalAveragePooling1D()(lstm_smiles)"
   ]
  },
  {
   "cell_type": "code",
   "execution_count": 30,
   "id": "d1fcf683-9653-412d-88b7-8850b29e03e1",
   "metadata": {
    "id": "d1fcf683-9653-412d-88b7-8850b29e03e1",
    "tags": []
   },
   "outputs": [],
   "source": [
    "# Embedding layer for proteins\n",
    "embed_protein = Embedding(vocab_size_proteins+1, 128, input_length=max_seq_len)(protein_input)\n",
    "\n",
    "# LSTM layers for sequence processing\n",
    "lstm_protein = LSTM(32, return_sequences=True)(embed_protein)  # LSTM layer with 32 units\n",
    "lstm_protein = LSTM(64, return_sequences=True)(lstm_protein)   # LSTM layer with 64 units\n",
    "lstm_protein = LSTM(96)(lstm_protein)                         # Final LSTM layer with 96 units\n",
    "\n",
    "# Reshape to add an additional dimension\n",
    "lstm_protein = Reshape((1, 96))(lstm_protein)\n",
    "\n",
    "# Global max-pooling layer\n",
    "max_protein = GlobalMaxPooling1D()(lstm_protein)"
   ]
  },
  {
   "cell_type": "code",
   "execution_count": 31,
   "id": "680bc723-5886-4a74-aa1a-22a4abbb7533",
   "metadata": {
    "id": "680bc723-5886-4a74-aa1a-22a4abbb7533",
    "tags": []
   },
   "outputs": [],
   "source": [
    "# Combining the ligand and target representations\n",
    "concat_layer = Concatenate()([max_smiles, max_protein])"
   ]
  },
  {
   "cell_type": "code",
   "execution_count": 32,
   "id": "39e0c388-756b-4b83-8b92-2186f15135de",
   "metadata": {
    "id": "39e0c388-756b-4b83-8b92-2186f15135de",
    "tags": []
   },
   "outputs": [],
   "source": [
    "# Fully connected/Dense layers\n",
    "output = Dense(1024)(concat_layer)\n",
    "output = LeakyReLU(alpha=0.1)(output)  # Using LeakyReLU as the activation function\n",
    "output = Dropout(0.1)(output)\n",
    "output = Dense(512)(output)\n",
    "output = LeakyReLU(alpha=0.1)(output)\n",
    "output = Dropout(0.1)(output)\n",
    "output = Dense(256)(output)\n",
    "output = LeakyReLU(alpha=0.1)(output)\n",
    "output = Dense(1)(output)"
   ]
  },
  {
   "cell_type": "code",
   "execution_count": 33,
   "id": "1162b1a0-0c72-4e18-b04e-afcfbc96bc0b",
   "metadata": {
    "id": "1162b1a0-0c72-4e18-b04e-afcfbc96bc0b",
    "tags": []
   },
   "outputs": [],
   "source": [
    "model = Model(inputs = [smile_input, protein_input], outputs = output)"
   ]
  },
  {
   "cell_type": "code",
   "execution_count": 34,
   "id": "8ba5a374-9f04-4fe3-ac0f-36681eb6995b",
   "metadata": {
    "id": "8ba5a374-9f04-4fe3-ac0f-36681eb6995b",
    "tags": []
   },
   "outputs": [],
   "source": [
    "optimizer = optimizers.Adam(learning_rate = 0.001) #Adam optimizer\n",
    "model.compile(loss='mse', optimizer = optimizer, metrics=['mse']) #Mean squared error loss function"
   ]
  },
  {
   "cell_type": "raw",
   "id": "1d0bdd83-0b14-400b-983e-695a91e4aa75",
   "metadata": {
    "id": "1d0bdd83-0b14-400b-983e-695a91e4aa75"
   },
   "source": [
    "!pip install pydot\n",
    "!sudo apt install graphviz"
   ]
  },
  {
   "cell_type": "code",
   "execution_count": 35,
   "id": "afe6a172-006c-46e2-937b-71cce029dfeb",
   "metadata": {
    "colab": {
     "base_uri": "https://localhost:8080/"
    },
    "collapsed": true,
    "id": "afe6a172-006c-46e2-937b-71cce029dfeb",
    "jupyter": {
     "outputs_hidden": true
    },
    "outputId": "df382d79-b706-4956-8346-7f33b5b6bd79",
    "tags": []
   },
   "outputs": [
    {
     "name": "stdout",
     "output_type": "stream",
     "text": [
      "Model: \"model\"\n",
      "__________________________________________________________________________________________________\n",
      " Layer (type)                Output Shape                 Param #   Connected to                  \n",
      "==================================================================================================\n",
      " input_1 (InputLayer)        [(None, 72)]                 0         []                            \n",
      "                                                                                                  \n",
      " input_2 (InputLayer)        [(None, 1382)]               0         []                            \n",
      "                                                                                                  \n",
      " embedding (Embedding)       (None, 72, 128)              5632      ['input_1[0][0]']             \n",
      "                                                                                                  \n",
      " embedding_1 (Embedding)     (None, 1382, 128)            2688      ['input_2[0][0]']             \n",
      "                                                                                                  \n",
      " lstm (LSTM)                 (None, 72, 32)               20608     ['embedding[0][0]']           \n",
      "                                                                                                  \n",
      " lstm_3 (LSTM)               (None, 1382, 32)             20608     ['embedding_1[0][0]']         \n",
      "                                                                                                  \n",
      " lstm_1 (LSTM)               (None, 72, 64)               24832     ['lstm[0][0]']                \n",
      "                                                                                                  \n",
      " lstm_4 (LSTM)               (None, 1382, 64)             24832     ['lstm_3[0][0]']              \n",
      "                                                                                                  \n",
      " lstm_2 (LSTM)               (None, 96)                   61824     ['lstm_1[0][0]']              \n",
      "                                                                                                  \n",
      " lstm_5 (LSTM)               (None, 96)                   61824     ['lstm_4[0][0]']              \n",
      "                                                                                                  \n",
      " reshape (Reshape)           (None, 1, 96)                0         ['lstm_2[0][0]']              \n",
      "                                                                                                  \n",
      " reshape_1 (Reshape)         (None, 1, 96)                0         ['lstm_5[0][0]']              \n",
      "                                                                                                  \n",
      " global_average_pooling1d (  (None, 96)                   0         ['reshape[0][0]']             \n",
      " GlobalAveragePooling1D)                                                                          \n",
      "                                                                                                  \n",
      " global_max_pooling1d (Glob  (None, 96)                   0         ['reshape_1[0][0]']           \n",
      " alMaxPooling1D)                                                                                  \n",
      "                                                                                                  \n",
      " concatenate (Concatenate)   (None, 192)                  0         ['global_average_pooling1d[0][\n",
      "                                                                    0]',                          \n",
      "                                                                     'global_max_pooling1d[0][0]']\n",
      "                                                                                                  \n",
      " dense (Dense)               (None, 1024)                 197632    ['concatenate[0][0]']         \n",
      "                                                                                                  \n",
      " leaky_re_lu (LeakyReLU)     (None, 1024)                 0         ['dense[0][0]']               \n",
      "                                                                                                  \n",
      " dropout (Dropout)           (None, 1024)                 0         ['leaky_re_lu[0][0]']         \n",
      "                                                                                                  \n",
      " dense_1 (Dense)             (None, 512)                  524800    ['dropout[0][0]']             \n",
      "                                                                                                  \n",
      " leaky_re_lu_1 (LeakyReLU)   (None, 512)                  0         ['dense_1[0][0]']             \n",
      "                                                                                                  \n",
      " dropout_1 (Dropout)         (None, 512)                  0         ['leaky_re_lu_1[0][0]']       \n",
      "                                                                                                  \n",
      " dense_2 (Dense)             (None, 256)                  131328    ['dropout_1[0][0]']           \n",
      "                                                                                                  \n",
      " leaky_re_lu_2 (LeakyReLU)   (None, 256)                  0         ['dense_2[0][0]']             \n",
      "                                                                                                  \n",
      " dense_3 (Dense)             (None, 1)                    257       ['leaky_re_lu_2[0][0]']       \n",
      "                                                                                                  \n",
      "==================================================================================================\n",
      "Total params: 1076865 (4.11 MB)\n",
      "Trainable params: 1076865 (4.11 MB)\n",
      "Non-trainable params: 0 (0.00 Byte)\n",
      "__________________________________________________________________________________________________\n"
     ]
    }
   ],
   "source": [
    "#tf.keras.utils.plot_model(model)\n",
    "model.summary()"
   ]
  },
  {
   "cell_type": "code",
   "execution_count": 36,
   "id": "8fa86d9a-045b-4a71-a075-573e1ffc622d",
   "metadata": {
    "id": "8fa86d9a-045b-4a71-a075-573e1ffc622d",
    "tags": []
   },
   "outputs": [],
   "source": [
    "#Setting criteria for early stopping of the model run\n",
    "\n",
    "from tensorflow.keras.callbacks import EarlyStopping\n",
    "\n",
    "earlystopping = EarlyStopping(\n",
    "                min_delta=0.001,\n",
    "                patience=10,\n",
    "                restore_best_weights=True,)\n"
   ]
  },
  {
   "cell_type": "code",
   "execution_count": 37,
   "id": "be93cfa6-d7df-4c3b-8f5f-551ebb2fd1b7",
   "metadata": {
    "colab": {
     "base_uri": "https://localhost:8080/"
    },
    "id": "be93cfa6-d7df-4c3b-8f5f-551ebb2fd1b7",
    "outputId": "ea108d26-820a-4563-ee8c-ea4d29fd70f7",
    "scrolled": true,
    "tags": []
   },
   "outputs": [
    {
     "name": "stdout",
     "output_type": "stream",
     "text": [
      "Epoch 1/100\n"
     ]
    },
    {
     "name": "stderr",
     "output_type": "stream",
     "text": [
      "2023-10-25 09:35:44.647182: I tensorflow/compiler/xla/stream_executor/cuda/cuda_dnn.cc:442] Loaded cuDNN version 8600\n",
      "2023-10-25 09:35:46.152952: I tensorflow/compiler/xla/service/service.cc:168] XLA service 0x7f40e00fd1a0 initialized for platform CUDA (this does not guarantee that XLA will be used). Devices:\n",
      "2023-10-25 09:35:46.153014: I tensorflow/compiler/xla/service/service.cc:176]   StreamExecutor device (0): Tesla V100-SXM2-16GB, Compute Capability 7.0\n",
      "2023-10-25 09:35:46.160102: I tensorflow/compiler/mlir/tensorflow/utils/dump_mlir_util.cc:269] disabling MLIR crash reproducer, set env var `MLIR_CRASH_REPRODUCER_DIRECTORY` to enable.\n",
      "2023-10-25 09:35:46.271487: I ./tensorflow/compiler/jit/device_compiler.h:186] Compiled cluster using XLA!  This line is logged at most once for the lifetime of the process.\n"
     ]
    },
    {
     "name": "stdout",
     "output_type": "stream",
     "text": [
      "754/754 [==============================] - 139s 170ms/step - loss: 1.3825 - mse: 1.3825 - val_loss: 1.4195 - val_mse: 1.4195\n",
      "Epoch 2/100\n",
      "754/754 [==============================] - 125s 166ms/step - loss: 1.2700 - mse: 1.2700 - val_loss: 1.1916 - val_mse: 1.1916\n",
      "Epoch 3/100\n",
      "754/754 [==============================] - 125s 166ms/step - loss: 1.2274 - mse: 1.2274 - val_loss: 1.1789 - val_mse: 1.1789\n",
      "Epoch 4/100\n",
      "754/754 [==============================] - 126s 167ms/step - loss: 1.1931 - mse: 1.1931 - val_loss: 1.1184 - val_mse: 1.1184\n",
      "Epoch 5/100\n",
      "754/754 [==============================] - 125s 166ms/step - loss: 1.1521 - mse: 1.1521 - val_loss: 1.0995 - val_mse: 1.0995\n",
      "Epoch 6/100\n",
      "754/754 [==============================] - 126s 167ms/step - loss: 1.1162 - mse: 1.1162 - val_loss: 1.0464 - val_mse: 1.0464\n",
      "Epoch 7/100\n",
      "754/754 [==============================] - 125s 166ms/step - loss: 1.0766 - mse: 1.0766 - val_loss: 1.0204 - val_mse: 1.0204\n",
      "Epoch 8/100\n",
      "754/754 [==============================] - 125s 166ms/step - loss: 1.0458 - mse: 1.0458 - val_loss: 0.9986 - val_mse: 0.9986\n",
      "Epoch 9/100\n",
      "754/754 [==============================] - 125s 166ms/step - loss: 1.0106 - mse: 1.0106 - val_loss: 0.9717 - val_mse: 0.9717\n",
      "Epoch 10/100\n",
      "754/754 [==============================] - 125s 165ms/step - loss: 0.9813 - mse: 0.9813 - val_loss: 0.9331 - val_mse: 0.9331\n",
      "Epoch 11/100\n",
      "754/754 [==============================] - 124s 165ms/step - loss: 0.9661 - mse: 0.9661 - val_loss: 0.9847 - val_mse: 0.9847\n",
      "Epoch 12/100\n",
      "754/754 [==============================] - 125s 165ms/step - loss: 0.9317 - mse: 0.9317 - val_loss: 0.9224 - val_mse: 0.9224\n",
      "Epoch 13/100\n",
      "754/754 [==============================] - 125s 165ms/step - loss: 0.9157 - mse: 0.9157 - val_loss: 0.9116 - val_mse: 0.9116\n",
      "Epoch 14/100\n",
      "754/754 [==============================] - 125s 166ms/step - loss: 0.9085 - mse: 0.9085 - val_loss: 0.9069 - val_mse: 0.9069\n",
      "Epoch 15/100\n",
      "754/754 [==============================] - 126s 167ms/step - loss: 0.8766 - mse: 0.8766 - val_loss: 0.9198 - val_mse: 0.9198\n",
      "Epoch 16/100\n",
      "754/754 [==============================] - 125s 166ms/step - loss: 0.8621 - mse: 0.8621 - val_loss: 0.9123 - val_mse: 0.9123\n",
      "Epoch 17/100\n",
      "754/754 [==============================] - 125s 166ms/step - loss: 0.8629 - mse: 0.8629 - val_loss: 0.8805 - val_mse: 0.8805\n",
      "Epoch 18/100\n",
      "754/754 [==============================] - 125s 166ms/step - loss: 0.8249 - mse: 0.8249 - val_loss: 0.8589 - val_mse: 0.8589\n",
      "Epoch 19/100\n",
      "754/754 [==============================] - 125s 165ms/step - loss: 0.8158 - mse: 0.8158 - val_loss: 0.8490 - val_mse: 0.8490\n",
      "Epoch 20/100\n",
      "754/754 [==============================] - 126s 167ms/step - loss: 0.8529 - mse: 0.8529 - val_loss: 0.8547 - val_mse: 0.8547\n",
      "Epoch 21/100\n",
      "754/754 [==============================] - 125s 166ms/step - loss: 0.8010 - mse: 0.8010 - val_loss: 0.8541 - val_mse: 0.8541\n",
      "Epoch 22/100\n",
      "754/754 [==============================] - 125s 165ms/step - loss: 0.7748 - mse: 0.7748 - val_loss: 0.9684 - val_mse: 0.9684\n",
      "Epoch 23/100\n",
      "754/754 [==============================] - 125s 165ms/step - loss: 0.7864 - mse: 0.7864 - val_loss: 0.8287 - val_mse: 0.8287\n",
      "Epoch 24/100\n",
      "754/754 [==============================] - 125s 165ms/step - loss: 0.7482 - mse: 0.7482 - val_loss: 0.8427 - val_mse: 0.8427\n",
      "Epoch 25/100\n",
      "754/754 [==============================] - 124s 165ms/step - loss: 0.7639 - mse: 0.7639 - val_loss: 0.8458 - val_mse: 0.8458\n",
      "Epoch 26/100\n",
      "754/754 [==============================] - 124s 165ms/step - loss: 0.7498 - mse: 0.7498 - val_loss: 0.8781 - val_mse: 0.8781\n",
      "Epoch 27/100\n",
      "754/754 [==============================] - 125s 165ms/step - loss: 0.7875 - mse: 0.7875 - val_loss: 0.8256 - val_mse: 0.8256\n",
      "Epoch 28/100\n",
      "754/754 [==============================] - 124s 165ms/step - loss: 0.7404 - mse: 0.7404 - val_loss: 0.8309 - val_mse: 0.8309\n",
      "Epoch 29/100\n",
      "754/754 [==============================] - 124s 165ms/step - loss: 0.7213 - mse: 0.7213 - val_loss: 0.7809 - val_mse: 0.7809\n",
      "Epoch 30/100\n",
      "754/754 [==============================] - 125s 166ms/step - loss: 0.7003 - mse: 0.7003 - val_loss: 0.7858 - val_mse: 0.7858\n",
      "Epoch 31/100\n",
      "754/754 [==============================] - 124s 165ms/step - loss: 0.6976 - mse: 0.6976 - val_loss: 0.7661 - val_mse: 0.7661\n",
      "Epoch 32/100\n",
      "754/754 [==============================] - 124s 165ms/step - loss: 0.6954 - mse: 0.6954 - val_loss: 0.7755 - val_mse: 0.7755\n",
      "Epoch 33/100\n",
      "754/754 [==============================] - 124s 165ms/step - loss: 0.6622 - mse: 0.6622 - val_loss: 0.7779 - val_mse: 0.7779\n",
      "Epoch 36/100\n",
      "754/754 [==============================] - 124s 165ms/step - loss: 0.6759 - mse: 0.6759 - val_loss: 0.7632 - val_mse: 0.7632\n",
      "Epoch 37/100\n",
      "754/754 [==============================] - 124s 165ms/step - loss: 0.6535 - mse: 0.6535 - val_loss: 0.7532 - val_mse: 0.7532\n",
      "Epoch 38/100\n",
      "754/754 [==============================] - 124s 164ms/step - loss: 0.6427 - mse: 0.6427 - val_loss: 0.7358 - val_mse: 0.7358\n",
      "Epoch 39/100\n",
      "754/754 [==============================] - 124s 164ms/step - loss: 0.6449 - mse: 0.6449 - val_loss: 0.9026 - val_mse: 0.9026\n",
      "Epoch 40/100\n",
      "754/754 [==============================] - 124s 165ms/step - loss: 0.6497 - mse: 0.6497 - val_loss: 0.7366 - val_mse: 0.7366\n",
      "Epoch 41/100\n",
      "754/754 [==============================] - 124s 164ms/step - loss: 0.6211 - mse: 0.6211 - val_loss: 0.7405 - val_mse: 0.7405\n",
      "Epoch 42/100\n",
      "754/754 [==============================] - 123s 164ms/step - loss: 0.6235 - mse: 0.6235 - val_loss: 0.7366 - val_mse: 0.7366\n",
      "Epoch 43/100\n",
      "754/754 [==============================] - 124s 164ms/step - loss: 0.6338 - mse: 0.6338 - val_loss: 0.7602 - val_mse: 0.7602\n",
      "Epoch 44/100\n",
      "754/754 [==============================] - 124s 164ms/step - loss: 0.6182 - mse: 0.6182 - val_loss: 0.7435 - val_mse: 0.7435\n",
      "Epoch 45/100\n",
      "754/754 [==============================] - 123s 164ms/step - loss: 0.5503 - mse: 0.5503 - val_loss: 0.7209 - val_mse: 0.7209\n",
      "Epoch 69/100\n",
      "754/754 [==============================] - 123s 164ms/step - loss: 0.5376 - mse: 0.5376 - val_loss: 0.7008 - val_mse: 0.7008\n",
      "Epoch 70/100\n",
      "754/754 [==============================] - 124s 164ms/step - loss: 0.5252 - mse: 0.5252 - val_loss: 0.7042 - val_mse: 0.7042\n",
      "Epoch 71/100\n",
      "754/754 [==============================] - 123s 164ms/step - loss: 0.5194 - mse: 0.5194 - val_loss: 0.7135 - val_mse: 0.7135\n",
      "Epoch 72/100\n",
      "754/754 [==============================] - 123s 163ms/step - loss: 0.5359 - mse: 0.5359 - val_loss: 0.7210 - val_mse: 0.7210\n",
      "Epoch 73/100\n",
      "754/754 [==============================] - 123s 163ms/step - loss: 0.5780 - mse: 0.5780 - val_loss: 0.6737 - val_mse: 0.6737\n",
      "Epoch 74/100\n",
      "754/754 [==============================] - 123s 163ms/step - loss: 0.4987 - mse: 0.4987 - val_loss: 0.6679 - val_mse: 0.6679\n",
      "Epoch 75/100\n",
      "754/754 [==============================] - 123s 163ms/step - loss: 0.4847 - mse: 0.4847 - val_loss: 0.6612 - val_mse: 0.6612\n",
      "Epoch 76/100\n",
      "754/754 [==============================] - 123s 163ms/step - loss: 0.4777 - mse: 0.4777 - val_loss: 0.6466 - val_mse: 0.6466\n",
      "Epoch 77/100\n",
      "754/754 [==============================] - 123s 163ms/step - loss: 0.4980 - mse: 0.4980 - val_loss: 0.6283 - val_mse: 0.6283\n",
      "Epoch 78/100\n",
      "754/754 [==============================] - 123s 163ms/step - loss: 0.4629 - mse: 0.4629 - val_loss: 0.6257 - val_mse: 0.6257\n",
      "Epoch 79/100\n",
      "754/754 [==============================] - 123s 163ms/step - loss: 0.4589 - mse: 0.4589 - val_loss: 0.6930 - val_mse: 0.6930\n",
      "Epoch 80/100\n",
      "754/754 [==============================] - 123s 163ms/step - loss: 0.4876 - mse: 0.4876 - val_loss: 0.6403 - val_mse: 0.6403\n",
      "Epoch 81/100\n",
      "754/754 [==============================] - 123s 164ms/step - loss: 0.4620 - mse: 0.4620 - val_loss: 0.6265 - val_mse: 0.6265\n",
      "Epoch 82/100\n",
      "754/754 [==============================] - 123s 164ms/step - loss: 0.4527 - mse: 0.4527 - val_loss: 0.6294 - val_mse: 0.6294\n",
      "Epoch 83/100\n",
      "754/754 [==============================] - 124s 164ms/step - loss: 0.4450 - mse: 0.4450 - val_loss: 0.6171 - val_mse: 0.6171\n",
      "Epoch 84/100\n",
      "754/754 [==============================] - 123s 164ms/step - loss: 0.4343 - mse: 0.4343 - val_loss: 0.6293 - val_mse: 0.6293\n",
      "Epoch 85/100\n",
      "754/754 [==============================] - 123s 163ms/step - loss: 0.4398 - mse: 0.4398 - val_loss: 0.6285 - val_mse: 0.6285\n",
      "Epoch 86/100\n",
      "754/754 [==============================] - 123s 163ms/step - loss: 0.4361 - mse: 0.4361 - val_loss: 0.6001 - val_mse: 0.6001\n",
      "Epoch 87/100\n",
      "754/754 [==============================] - 123s 163ms/step - loss: 0.4192 - mse: 0.4192 - val_loss: 0.6479 - val_mse: 0.6479\n",
      "Epoch 88/100\n",
      "754/754 [==============================] - 123s 163ms/step - loss: 0.4142 - mse: 0.4142 - val_loss: 0.6182 - val_mse: 0.6182\n",
      "Epoch 89/100\n",
      "754/754 [==============================] - 123s 163ms/step - loss: 0.4234 - mse: 0.4234 - val_loss: 0.6013 - val_mse: 0.6013\n",
      "Epoch 90/100\n",
      "754/754 [==============================] - 123s 163ms/step - loss: 0.4035 - mse: 0.4035 - val_loss: 0.5872 - val_mse: 0.5872\n",
      "Epoch 91/100\n",
      "754/754 [==============================] - 124s 164ms/step - loss: 0.4032 - mse: 0.4032 - val_loss: 0.6223 - val_mse: 0.6223\n",
      "Epoch 92/100\n",
      "754/754 [==============================] - 123s 163ms/step - loss: 0.4840 - mse: 0.4840 - val_loss: 0.6063 - val_mse: 0.6063\n",
      "Epoch 93/100\n",
      "754/754 [==============================] - 123s 164ms/step - loss: 0.3983 - mse: 0.3983 - val_loss: 0.5833 - val_mse: 0.5833\n",
      "Epoch 94/100\n",
      "754/754 [==============================] - 123s 164ms/step - loss: 0.3884 - mse: 0.3884 - val_loss: 0.5833 - val_mse: 0.5833\n",
      "Epoch 95/100\n",
      "754/754 [==============================] - 123s 163ms/step - loss: 0.3910 - mse: 0.3910 - val_loss: 0.5780 - val_mse: 0.5780\n",
      "Epoch 96/100\n",
      "754/754 [==============================] - 123s 164ms/step - loss: 0.3888 - mse: 0.3888 - val_loss: 0.5820 - val_mse: 0.5820\n",
      "Epoch 99/100\n",
      "754/754 [==============================] - 123s 163ms/step - loss: 0.3810 - mse: 0.3810 - val_loss: 0.6322 - val_mse: 0.6322\n",
      "Epoch 100/100\n",
      "754/754 [==============================] - 123s 163ms/step - loss: 0.3965 - mse: 0.3965 - val_loss: 0.5796 - val_mse: 0.5796\n"
     ]
    }
   ],
   "source": [
    "#Model Training\n",
    "history = model.fit([train_smiles_array, train_proteins_array], train_labels_array,\n",
    "                    epochs = 100, batch_size = 256, validation_data = ([test_smiles_array, test_proteins_array], test_labels_array))"
   ]
  },
  {
   "cell_type": "code",
   "execution_count": 38,
   "id": "50c6c51f-4e32-4814-80d5-8a2e446679bb",
   "metadata": {
    "id": "50c6c51f-4e32-4814-80d5-8a2e446679bb",
    "tags": []
   },
   "outputs": [
    {
     "data": {
      "text/plain": [
       "<Figure size 640x480 with 0 Axes>"
      ]
     },
     "execution_count": 38,
     "metadata": {},
     "output_type": "execute_result"
    },
    {
     "data": {
      "image/png": "[encoded data removed]",
      "text/plain": [
       "<Figure size 640x480 with 1 Axes>"
      ]
     },
     "metadata": {},
     "output_type": "display_data"
    },
    {
     "data": {
      "text/plain": [
       "<Figure size 640x480 with 0 Axes>"
      ]
     },
     "metadata": {},
     "output_type": "display_data"
    }
   ],
   "source": [
    "# Plotting the training and validation loss\n",
    "\n",
    "import matplotlib.pyplot as plt\n",
    "\n",
    "mse = history.history['mse']\n",
    "val_mse = history.history['val_mse']\n",
    "loss = history.history['loss']\n",
    "val_loss = history.history['val_loss']\n",
    "\n",
    "epochs = range(len(mse))\n",
    "\n",
    "plt.plot(epochs, mse, 'r')\n",
    "plt.plot(epochs, val_mse, 'b')\n",
    "plt.title('Training and Validation MSE')\n",
    "plt.title('Training Mean Squared Error')\n",
    "plt.xlabel('Epochs')\n",
    "plt.ylabel('MSE')\n",
    "plt.legend(['Training MSE', 'Validation MSE'])\n",
    "plt.figure()"
   ]
  },
  {
   "cell_type": "code",
   "execution_count": 39,
   "id": "3b9b907f-9586-430e-8c1a-221611391743",
   "metadata": {
    "id": "3b9b907f-9586-430e-8c1a-221611391743",
    "tags": []
   },
   "outputs": [],
   "source": [
    "# Saving the trained model\n",
    "model.save(\"DTBA_model.keras\")"
   ]
  },
  {
   "cell_type": "code",
   "execution_count": 40,
   "id": "d26f0f35-a04e-4015-aa9c-9bb3c8cbfb7f",
   "metadata": {
    "colab": {
     "base_uri": "https://localhost:8080/"
    },
    "collapsed": true,
    "id": "d26f0f35-a04e-4015-aa9c-9bb3c8cbfb7f",
    "jupyter": {
     "outputs_hidden": true
    },
    "outputId": "27acf1db-dd5c-4675-ae8d-a2b20461c102",
    "tags": []
   },
   "outputs": [
    {
     "name": "stdout",
     "output_type": "stream",
     "text": [
      "Model: \"model\"\n",
      "__________________________________________________________________________________________________\n",
      " Layer (type)                Output Shape                 Param #   Connected to                  \n",
      "==================================================================================================\n",
      " input_1 (InputLayer)        [(None, 72)]                 0         []                            \n",
      "                                                                                                  \n",
      " input_2 (InputLayer)        [(None, 1382)]               0         []                            \n",
      "                                                                                                  \n",
      " embedding (Embedding)       (None, 72, 128)              5632      ['input_1[0][0]']             \n",
      "                                                                                                  \n",
      " embedding_1 (Embedding)     (None, 1382, 128)            2688      ['input_2[0][0]']             \n",
      "                                                                                                  \n",
      " lstm (LSTM)                 (None, 72, 32)               20608     ['embedding[0][0]']           \n",
      "                                                                                                  \n",
      " lstm_3 (LSTM)               (None, 1382, 32)             20608     ['embedding_1[0][0]']         \n",
      "                                                                                                  \n",
      " lstm_1 (LSTM)               (None, 72, 64)               24832     ['lstm[0][0]']                \n",
      "                                                                                                  \n",
      " lstm_4 (LSTM)               (None, 1382, 64)             24832     ['lstm_3[0][0]']              \n",
      "                                                                                                  \n",
      " lstm_2 (LSTM)               (None, 96)                   61824     ['lstm_1[0][0]']              \n",
      "                                                                                                  \n",
      " lstm_5 (LSTM)               (None, 96)                   61824     ['lstm_4[0][0]']              \n",
      "                                                                                                  \n",
      " reshape (Reshape)           (None, 1, 96)                0         ['lstm_2[0][0]']              \n",
      "                                                                                                  \n",
      " reshape_1 (Reshape)         (None, 1, 96)                0         ['lstm_5[0][0]']              \n",
      "                                                                                                  \n",
      " global_average_pooling1d (  (None, 96)                   0         ['reshape[0][0]']             \n",
      " GlobalAveragePooling1D)                                                                          \n",
      "                                                                                                  \n",
      " global_max_pooling1d (Glob  (None, 96)                   0         ['reshape_1[0][0]']           \n",
      " alMaxPooling1D)                                                                                  \n",
      "                                                                                                  \n",
      " concatenate (Concatenate)   (None, 192)                  0         ['global_average_pooling1d[0][\n",
      "                                                                    0]',                          \n",
      "                                                                     'global_max_pooling1d[0][0]']\n",
      "                                                                                                  \n",
      " dense (Dense)               (None, 1024)                 197632    ['concatenate[0][0]']         \n",
      "                                                                                                  \n",
      " leaky_re_lu (LeakyReLU)     (None, 1024)                 0         ['dense[0][0]']               \n",
      "                                                                                                  \n",
      " dropout (Dropout)           (None, 1024)                 0         ['leaky_re_lu[0][0]']         \n",
      "                                                                                                  \n",
      " dense_1 (Dense)             (None, 512)                  524800    ['dropout[0][0]']             \n",
      "                                                                                                  \n",
      " leaky_re_lu_1 (LeakyReLU)   (None, 512)                  0         ['dense_1[0][0]']             \n",
      "                                                                                                  \n",
      " dropout_1 (Dropout)         (None, 512)                  0         ['leaky_re_lu_1[0][0]']       \n",
      "                                                                                                  \n",
      " dense_2 (Dense)             (None, 256)                  131328    ['dropout_1[0][0]']           \n",
      "                                                                                                  \n",
      " leaky_re_lu_2 (LeakyReLU)   (None, 256)                  0         ['dense_2[0][0]']             \n",
      "                                                                                                  \n",
      " dense_3 (Dense)             (None, 1)                    257       ['leaky_re_lu_2[0][0]']       \n",
      "                                                                                                  \n",
      "==================================================================================================\n",
      "Total params: 1076865 (4.11 MB)\n",
      "Trainable params: 1076865 (4.11 MB)\n",
      "Non-trainable params: 0 (0.00 Byte)\n",
      "__________________________________________________________________________________________________\n"
     ]
    }
   ],
   "source": [
    "# Reloading the saved model\n",
    "trained_model = tf.keras.models.load_model(\"DTBA_model.keras\")\n",
    "trained_model.summary()"
   ]
  },
  {
   "cell_type": "markdown",
   "id": "c726ba47-0ab7-498f-aa09-71dcefde6bd2",
   "metadata": {
    "id": "c726ba47-0ab7-498f-aa09-71dcefde6bd2"
   },
   "source": [
    "## Testing the model"
   ]
  },
  {
   "cell_type": "code",
   "execution_count": 41,
   "id": "ff339bb2-5ed4-4a30-8538-accf52a88edb",
   "metadata": {
    "id": "ff339bb2-5ed4-4a30-8538-accf52a88edb",
    "tags": []
   },
   "outputs": [],
   "source": [
    "import requests\n",
    "\n",
    "# Function to fetch protein sequences from UniProt\n",
    "def fetch_protein_sequences(uniprot_id):\n",
    "    url = f\"https://www.uniprot.org/uniprot/{uniprot_id}.fasta\"\n",
    "    response = requests.get(url)\n",
    "    if response.status_code == 200:\n",
    "        # Extract the sequence from the FASTA format\n",
    "        sequence_lines = response.text.split(\"\\n\")[1:]\n",
    "        sequence = \"\".join(sequence_lines)\n",
    "    return sequence"
   ]
  },
  {
   "cell_type": "code",
   "execution_count": 42,
   "id": "0df357ec-56b8-4f8b-9184-0e5ff6450359",
   "metadata": {
    "colab": {
     "base_uri": "https://localhost:8080/"
    },
    "id": "0df357ec-56b8-4f8b-9184-0e5ff6450359",
    "outputId": "4eec3a3e-fdde-46e0-b42b-d91f669186f2",
    "tags": []
   },
   "outputs": [
    {
     "data": {
      "text/plain": [
       "1068"
      ]
     },
     "execution_count": 42,
     "metadata": {},
     "output_type": "execute_result"
    }
   ],
   "source": [
    "#Fetching protein sequence for PI3K using UNIPROT ID\n",
    "target_seq = fetch_protein_sequences('P42336')\n",
    "len(target_seq)"
   ]
  },
  {
   "cell_type": "code",
   "execution_count": 43,
   "id": "f52bd5df-554e-4646-a800-479216c265f4",
   "metadata": {
    "colab": {
     "base_uri": "https://localhost:8080/",
     "height": 112
    },
    "id": "f52bd5df-554e-4646-a800-479216c265f4",
    "outputId": "92ede2ab-9846-4523-d2b4-d4345b0ce16d",
    "tags": []
   },
   "outputs": [
    {
     "data": {
      "text/html": [
       "<div>\n",
       "<style scoped>\n",
       "    .dataframe tbody tr th:only-of-type {\n",
       "        vertical-align: middle;\n",
       "    }\n",
       "\n",
       "    .dataframe tbody tr th {\n",
       "        vertical-align: top;\n",
       "    }\n",
       "\n",
       "    .dataframe thead th {\n",
       "        text-align: right;\n",
       "    }\n",
       "</style>\n",
       "<table border=\"1\" class=\"dataframe\">\n",
       "  <thead>\n",
       "    <tr style=\"text-align: right;\">\n",
       "      <th></th>\n",
       "      <th>Drug_ID</th>\n",
       "      <th>Drug Name</th>\n",
       "      <th>SMILES</th>\n",
       "    </tr>\n",
       "  </thead>\n",
       "  <tbody>\n",
       "    <tr>\n",
       "      <th>0</th>\n",
       "      <td>npc_135565785</td>\n",
       "      <td>COPANLISIB HYDROCHLORIDE</td>\n",
       "      <td>COC1=C(C=CC2=C3NCCN3C(=NC(=O)C4=CN=C(N=C4)N)N=...</td>\n",
       "    </tr>\n",
       "    <tr>\n",
       "      <th>1</th>\n",
       "      <td>npc_135905473</td>\n",
       "      <td>BAY-1082439</td>\n",
       "      <td>CC1=C(C=CC=N1)C(=O)N=C2N=C3C(=C4N2CCN4)C=CC(=C...</td>\n",
       "    </tr>\n",
       "  </tbody>\n",
       "</table>\n",
       "</div>"
      ],
      "text/plain": [
       "         Drug_ID                 Drug Name  \\\n",
       "0  npc_135565785  COPANLISIB HYDROCHLORIDE   \n",
       "1  npc_135905473               BAY-1082439   \n",
       "\n",
       "                                              SMILES  \n",
       "0  COC1=C(C=CC2=C3NCCN3C(=NC(=O)C4=CN=C(N=C4)N)N=...  \n",
       "1  CC1=C(C=CC=N1)C(=O)N=C2N=C3C(=C4N2CCN4)C=CC(=C...  "
      ]
     },
     "execution_count": 43,
     "metadata": {},
     "output_type": "execute_result"
    }
   ],
   "source": [
    "#Set of drugs similar in structure to Copanlisib (PI3K inhibitor) obtained from nference small molecules app\n",
    "drugs_df = pd.read_csv(\"Copanlisib_Similar_Drugs.csv\")\n",
    "drugs_df.head(2)"
   ]
  },
  {
   "cell_type": "code",
   "execution_count": 44,
   "id": "4557da66-70e0-4fb2-bcf0-7b2378359b6d",
   "metadata": {
    "id": "4557da66-70e0-4fb2-bcf0-7b2378359b6d",
    "tags": []
   },
   "outputs": [],
   "source": [
    "drugs_smiles = drugs_df.SMILES.to_list()\n",
    "target_sequence = []\n",
    "for i in range(len(drugs_smiles)):\n",
    "    target_sequence.append(target_seq)"
   ]
  },
  {
   "cell_type": "code",
   "execution_count": 45,
   "id": "1496b797-fd5c-46ab-88d5-df6c07741781",
   "metadata": {
    "id": "1496b797-fd5c-46ab-88d5-df6c07741781",
    "tags": []
   },
   "outputs": [],
   "source": [
    "#Preprocessing the ligands and target\n",
    "def preprocessing_inputs(target,drugs):\n",
    "    target = tokenizer_proteins.texts_to_sequences(target)\n",
    "    target = pad_sequences(target,truncating=\"post\",padding=\"post\",maxlen=int(max_seq_len))\n",
    "    target = np.array(target)\n",
    "\n",
    "    drugs = tokenizer_smiles.texts_to_sequences(drugs)\n",
    "    drugs = pad_sequences(drugs,truncating=\"post\",padding=\"post\",maxlen=int(max_smiles_len))\n",
    "    drugs = np.array(drugs)\n",
    "\n",
    "    return target, drugs"
   ]
  },
  {
   "cell_type": "code",
   "execution_count": 46,
   "id": "9287a5e9-0f35-48f0-8ae0-ccc884d6d0b3",
   "metadata": {
    "id": "9287a5e9-0f35-48f0-8ae0-ccc884d6d0b3",
    "tags": []
   },
   "outputs": [],
   "source": [
    "target, drugs = preprocessing_inputs(target_sequence,drugs_smiles)"
   ]
  },
  {
   "cell_type": "code",
   "execution_count": 47,
   "id": "55d24f89-9d1d-4306-992d-bc43c1ca1046",
   "metadata": {
    "colab": {
     "base_uri": "https://localhost:8080/"
    },
    "id": "55d24f89-9d1d-4306-992d-bc43c1ca1046",
    "outputId": "69fd03b1-4158-4ad5-8dbe-5d8a6ace638c",
    "tags": []
   },
   "outputs": [
    {
     "data": {
      "text/plain": [
       "((72, 1382), (72, 72))"
      ]
     },
     "execution_count": 47,
     "metadata": {},
     "output_type": "execute_result"
    }
   ],
   "source": [
    "target.shape, drugs.shape"
   ]
  },
  {
   "cell_type": "code",
   "execution_count": 48,
   "id": "ceb8d116-ed2f-4373-ac28-ad74e2443738",
   "metadata": {
    "id": "ceb8d116-ed2f-4373-ac28-ad74e2443738",
    "tags": []
   },
   "outputs": [
    {
     "name": "stdout",
     "output_type": "stream",
     "text": [
      "3/3 [==============================] - 2s 56ms/step\n"
     ]
    }
   ],
   "source": [
    "# Prediction of KiBA score for the set of drugs against PI3K\n",
    "kiba_predictions = trained_model.predict([drugs,target])"
   ]
  },
  {
   "cell_type": "code",
   "execution_count": 49,
   "id": "ea96abe0-7753-4f1a-8037-800655237087",
   "metadata": {
    "id": "ea96abe0-7753-4f1a-8037-800655237087",
    "tags": []
   },
   "outputs": [],
   "source": [
    "drugs_df['KiBA_Predictions'] = kiba_predictions"
   ]
  },
  {
   "cell_type": "code",
   "execution_count": 50,
   "id": "474febeb-769a-4b94-9bfe-a45e33162cbc",
   "metadata": {
    "id": "474febeb-769a-4b94-9bfe-a45e33162cbc",
    "tags": []
   },
   "outputs": [
    {
     "data": {
      "text/html": [
       "<div>\n",
       "<style scoped>\n",
       "    .dataframe tbody tr th:only-of-type {\n",
       "        vertical-align: middle;\n",
       "    }\n",
       "\n",
       "    .dataframe tbody tr th {\n",
       "        vertical-align: top;\n",
       "    }\n",
       "\n",
       "    .dataframe thead th {\n",
       "        text-align: right;\n",
       "    }\n",
       "</style>\n",
       "<table border=\"1\" class=\"dataframe\">\n",
       "  <thead>\n",
       "    <tr style=\"text-align: right;\">\n",
       "      <th></th>\n",
       "      <th>Drug Name</th>\n",
       "      <th>KiBA_Predictions</th>\n",
       "    </tr>\n",
       "  </thead>\n",
       "  <tbody>\n",
       "    <tr>\n",
       "      <th>0</th>\n",
       "      <td>SAPITINIB</td>\n",
       "      <td>0.729892</td>\n",
       "    </tr>\n",
       "    <tr>\n",
       "      <th>1</th>\n",
       "      <td>4SC-203</td>\n",
       "      <td>0.962286</td>\n",
       "    </tr>\n",
       "    <tr>\n",
       "      <th>2</th>\n",
       "      <td>FGF401</td>\n",
       "      <td>0.967848</td>\n",
       "    </tr>\n",
       "    <tr>\n",
       "      <th>3</th>\n",
       "      <td>AZD-7986</td>\n",
       "      <td>1.010535</td>\n",
       "    </tr>\n",
       "    <tr>\n",
       "      <th>4</th>\n",
       "      <td>BRILACIDIN</td>\n",
       "      <td>1.127901</td>\n",
       "    </tr>\n",
       "    <tr>\n",
       "      <th>5</th>\n",
       "      <td>SAR-260301</td>\n",
       "      <td>1.229122</td>\n",
       "    </tr>\n",
       "    <tr>\n",
       "      <th>6</th>\n",
       "      <td>UK432097</td>\n",
       "      <td>1.348650</td>\n",
       "    </tr>\n",
       "    <tr>\n",
       "      <th>7</th>\n",
       "      <td>PAMAPIMOD</td>\n",
       "      <td>1.430524</td>\n",
       "    </tr>\n",
       "    <tr>\n",
       "      <th>8</th>\n",
       "      <td>LAZERTINIB</td>\n",
       "      <td>1.474842</td>\n",
       "    </tr>\n",
       "    <tr>\n",
       "      <th>9</th>\n",
       "      <td>RODATRISTAT ETHYL</td>\n",
       "      <td>1.517885</td>\n",
       "    </tr>\n",
       "  </tbody>\n",
       "</table>\n",
       "</div>"
      ],
      "text/plain": [
       "           Drug Name  KiBA_Predictions\n",
       "0          SAPITINIB          0.729892\n",
       "1            4SC-203          0.962286\n",
       "2             FGF401          0.967848\n",
       "3           AZD-7986          1.010535\n",
       "4         BRILACIDIN          1.127901\n",
       "5         SAR-260301          1.229122\n",
       "6           UK432097          1.348650\n",
       "7          PAMAPIMOD          1.430524\n",
       "8         LAZERTINIB          1.474842\n",
       "9  RODATRISTAT ETHYL          1.517885"
      ]
     },
     "execution_count": 50,
     "metadata": {},
     "output_type": "execute_result"
    }
   ],
   "source": [
    "#Sorting the values and displaying the top 10 ligands with the lowest KiBA scores (highest affinity)\n",
    "drugs_kiba_predicted = drugs_df[['Drug Name','KiBA_Predictions']]\\\n",
    "                            .sort_values('KiBA_Predictions').\\\n",
    "                            reset_index(drop=True)\n",
    "drugs_kiba_predicted.head(10)"
   ]
  },
  {
   "cell_type": "code",
   "execution_count": null,
   "id": "ffcc809f-fffe-4a4c-8de0-21160171fc7d",
   "metadata": {
    "id": "ffcc809f-fffe-4a4c-8de0-21160171fc7d"
   },
   "outputs": [],
   "source": []
  }
 ],
 "metadata": {
  "colab": {
   "provenance": []
  },
  "kernelspec": {
   "display_name": "Python 3 (ipykernel)",
   "language": "python",
   "name": "python3"
  },
  "language_info": {
   "codemirror_mode": {
    "name": "ipython",
    "version": 3
   },
   "file_extension": ".py",
   "mimetype": "text/x-python",
   "name": "python",
   "nbconvert_exporter": "python",
   "pygments_lexer": "ipython3",
   "version": "3.10.6"
  }
 },
 "nbformat": 4,
 "nbformat_minor": 5
}
